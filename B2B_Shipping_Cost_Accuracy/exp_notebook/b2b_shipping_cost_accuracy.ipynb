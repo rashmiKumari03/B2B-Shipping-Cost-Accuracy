{
 "cells": [
  {
   "cell_type": "markdown",
   "metadata": {},
   "source": [
    "<h1 style=\"color:lime;font-style:italic; font-family:Georgia\">1. Importing the Required Libraries:</h1>"
   ]
  },
  {
   "cell_type": "code",
   "execution_count": 1,
   "metadata": {},
   "outputs": [],
   "source": [
    "import numpy as np \n",
    "import pandas as pd\n",
    "import matplotlib.pyplot as plt\n",
    "import seaborn as sns\n",
    "\n",
    "\n",
    "import warnings\n",
    "warnings.filterwarnings('ignore')\n",
    "\n",
    "import os"
   ]
  },
  {
   "cell_type": "markdown",
   "metadata": {},
   "source": [
    "<h1 style=\"color:lime;font-style:italic; font-family:Georgia\">2. Reading the Datasets:</h1>"
   ]
  },
  {
   "cell_type": "markdown",
   "metadata": {},
   "source": [
    "<h6 style=\"font-family: 'Arial'; font-size: 20px; font-style: italic; color:orange;\">\n",
    "WAY I : Individually One by One\n",
    "</h6>"
   ]
  },
  {
   "cell_type": "code",
   "execution_count": 2,
   "metadata": {},
   "outputs": [
    {
     "data": {
      "text/plain": [
       "'g:\\\\DataScienceXpert_End_to_End_Solution_for_Key_Domains\\\\B2B_Shipping_Cost_Accuracy\\\\exp_notebook'"
      ]
     },
     "execution_count": 2,
     "metadata": {},
     "output_type": "execute_result"
    }
   ],
   "source": [
    "os.getcwd()  #This is the current directory"
   ]
  },
  {
   "cell_type": "code",
   "execution_count": 3,
   "metadata": {},
   "outputs": [],
   "source": [
    "courier=pd.read_csv(r'G:\\DataScienceXpert_End_to_End_Solution_for_Key_Domains\\B2B_Shipping_Cost_Accuracy\\b2b_data\\Courier Company - Rates.csv')\n",
    "invoice = pd.read_csv(r'G:\\DataScienceXpert_End_to_End_Solution_for_Key_Domains\\B2B_Shipping_Cost_Accuracy\\b2b_data\\Invoice.csv')\n",
    "order = pd.read_csv(r'G:\\DataScienceXpert_End_to_End_Solution_for_Key_Domains\\B2B_Shipping_Cost_Accuracy\\b2b_data\\Order Report.csv')\n",
    "pincode = pd.read_csv(r'G:\\DataScienceXpert_End_to_End_Solution_for_Key_Domains\\B2B_Shipping_Cost_Accuracy\\b2b_data\\pincodes.csv')\n",
    "sku = pd.read_csv(r'G:\\DataScienceXpert_End_to_End_Solution_for_Key_Domains\\B2B_Shipping_Cost_Accuracy\\b2b_data\\SKU Master.csv')"
   ]
  },
  {
   "cell_type": "code",
   "execution_count": 4,
   "metadata": {},
   "outputs": [
    {
     "data": {
      "text/html": [
       "<div>\n",
       "<style scoped>\n",
       "    .dataframe tbody tr th:only-of-type {\n",
       "        vertical-align: middle;\n",
       "    }\n",
       "\n",
       "    .dataframe tbody tr th {\n",
       "        vertical-align: top;\n",
       "    }\n",
       "\n",
       "    .dataframe thead th {\n",
       "        text-align: right;\n",
       "    }\n",
       "</style>\n",
       "<table border=\"1\" class=\"dataframe\">\n",
       "  <thead>\n",
       "    <tr style=\"text-align: right;\">\n",
       "      <th></th>\n",
       "      <th>fwd_a_fixed</th>\n",
       "      <th>fwd_a_additional</th>\n",
       "      <th>fwd_b_fixed</th>\n",
       "      <th>fwd_b_additional</th>\n",
       "      <th>fwd_c_fixed</th>\n",
       "      <th>fwd_c_additional</th>\n",
       "      <th>fwd_d_fixed</th>\n",
       "      <th>fwd_d_additional</th>\n",
       "      <th>fwd_e_fixed</th>\n",
       "      <th>fwd_e_additional</th>\n",
       "      <th>rto_a_fixed</th>\n",
       "      <th>rto_a_additional</th>\n",
       "      <th>rto_b_fixed</th>\n",
       "      <th>rto_b_additional</th>\n",
       "      <th>rto_c_fixed</th>\n",
       "      <th>rto_c_additional</th>\n",
       "      <th>rto_d_fixed</th>\n",
       "      <th>rto_d_additional</th>\n",
       "      <th>rto_e_fixed</th>\n",
       "      <th>rto_e_additional</th>\n",
       "    </tr>\n",
       "  </thead>\n",
       "  <tbody>\n",
       "    <tr>\n",
       "      <th>0</th>\n",
       "      <td>29.5</td>\n",
       "      <td>23.6</td>\n",
       "      <td>33</td>\n",
       "      <td>28.3</td>\n",
       "      <td>40.1</td>\n",
       "      <td>38.9</td>\n",
       "      <td>45.4</td>\n",
       "      <td>44.8</td>\n",
       "      <td>56.6</td>\n",
       "      <td>55.5</td>\n",
       "      <td>13.6</td>\n",
       "      <td>23.6</td>\n",
       "      <td>20.5</td>\n",
       "      <td>28.3</td>\n",
       "      <td>31.9</td>\n",
       "      <td>38.9</td>\n",
       "      <td>41.3</td>\n",
       "      <td>44.8</td>\n",
       "      <td>50.7</td>\n",
       "      <td>55.5</td>\n",
       "    </tr>\n",
       "  </tbody>\n",
       "</table>\n",
       "</div>"
      ],
      "text/plain": [
       "   fwd_a_fixed  fwd_a_additional  fwd_b_fixed  fwd_b_additional  fwd_c_fixed  \\\n",
       "0         29.5              23.6           33              28.3         40.1   \n",
       "\n",
       "   fwd_c_additional  fwd_d_fixed  fwd_d_additional  fwd_e_fixed  \\\n",
       "0              38.9         45.4              44.8         56.6   \n",
       "\n",
       "   fwd_e_additional  rto_a_fixed  rto_a_additional  rto_b_fixed  \\\n",
       "0              55.5         13.6              23.6         20.5   \n",
       "\n",
       "   rto_b_additional  rto_c_fixed  rto_c_additional  rto_d_fixed  \\\n",
       "0              28.3         31.9              38.9         41.3   \n",
       "\n",
       "   rto_d_additional  rto_e_fixed  rto_e_additional  \n",
       "0              44.8         50.7              55.5  "
      ]
     },
     "execution_count": 4,
     "metadata": {},
     "output_type": "execute_result"
    }
   ],
   "source": [
    "courier.head()"
   ]
  },
  {
   "cell_type": "code",
   "execution_count": 5,
   "metadata": {},
   "outputs": [
    {
     "data": {
      "text/html": [
       "<div>\n",
       "<style scoped>\n",
       "    .dataframe tbody tr th:only-of-type {\n",
       "        vertical-align: middle;\n",
       "    }\n",
       "\n",
       "    .dataframe tbody tr th {\n",
       "        vertical-align: top;\n",
       "    }\n",
       "\n",
       "    .dataframe thead th {\n",
       "        text-align: right;\n",
       "    }\n",
       "</style>\n",
       "<table border=\"1\" class=\"dataframe\">\n",
       "  <thead>\n",
       "    <tr style=\"text-align: right;\">\n",
       "      <th></th>\n",
       "      <th>AWB Code</th>\n",
       "      <th>Order ID</th>\n",
       "      <th>Charged Weight</th>\n",
       "      <th>Warehouse Pincode</th>\n",
       "      <th>Customer Pincode</th>\n",
       "      <th>Zone</th>\n",
       "      <th>Type of Shipment</th>\n",
       "      <th>Billing Amount (Rs.)</th>\n",
       "    </tr>\n",
       "  </thead>\n",
       "  <tbody>\n",
       "    <tr>\n",
       "      <th>0</th>\n",
       "      <td>1091117222124</td>\n",
       "      <td>2001806232</td>\n",
       "      <td>1.30</td>\n",
       "      <td>121003</td>\n",
       "      <td>507101</td>\n",
       "      <td>d</td>\n",
       "      <td>Forward charges</td>\n",
       "      <td>135.0</td>\n",
       "    </tr>\n",
       "    <tr>\n",
       "      <th>1</th>\n",
       "      <td>1091117222194</td>\n",
       "      <td>2001806273</td>\n",
       "      <td>1.00</td>\n",
       "      <td>121003</td>\n",
       "      <td>486886</td>\n",
       "      <td>d</td>\n",
       "      <td>Forward charges</td>\n",
       "      <td>90.2</td>\n",
       "    </tr>\n",
       "    <tr>\n",
       "      <th>2</th>\n",
       "      <td>1091117222931</td>\n",
       "      <td>2001806408</td>\n",
       "      <td>2.50</td>\n",
       "      <td>121003</td>\n",
       "      <td>532484</td>\n",
       "      <td>d</td>\n",
       "      <td>Forward charges</td>\n",
       "      <td>224.6</td>\n",
       "    </tr>\n",
       "    <tr>\n",
       "      <th>3</th>\n",
       "      <td>1091117223244</td>\n",
       "      <td>2001806458</td>\n",
       "      <td>1.00</td>\n",
       "      <td>121003</td>\n",
       "      <td>143001</td>\n",
       "      <td>b</td>\n",
       "      <td>Forward charges</td>\n",
       "      <td>61.3</td>\n",
       "    </tr>\n",
       "    <tr>\n",
       "      <th>4</th>\n",
       "      <td>1091117229345</td>\n",
       "      <td>2001807012</td>\n",
       "      <td>0.15</td>\n",
       "      <td>121003</td>\n",
       "      <td>515591</td>\n",
       "      <td>d</td>\n",
       "      <td>Forward charges</td>\n",
       "      <td>45.4</td>\n",
       "    </tr>\n",
       "  </tbody>\n",
       "</table>\n",
       "</div>"
      ],
      "text/plain": [
       "        AWB Code    Order ID  Charged Weight  Warehouse Pincode  \\\n",
       "0  1091117222124  2001806232            1.30             121003   \n",
       "1  1091117222194  2001806273            1.00             121003   \n",
       "2  1091117222931  2001806408            2.50             121003   \n",
       "3  1091117223244  2001806458            1.00             121003   \n",
       "4  1091117229345  2001807012            0.15             121003   \n",
       "\n",
       "   Customer Pincode Zone Type of Shipment  Billing Amount (Rs.)  \n",
       "0            507101    d  Forward charges                 135.0  \n",
       "1            486886    d  Forward charges                  90.2  \n",
       "2            532484    d  Forward charges                 224.6  \n",
       "3            143001    b  Forward charges                  61.3  \n",
       "4            515591    d  Forward charges                  45.4  "
      ]
     },
     "execution_count": 5,
     "metadata": {},
     "output_type": "execute_result"
    }
   ],
   "source": [
    "invoice.head()"
   ]
  },
  {
   "cell_type": "code",
   "execution_count": 6,
   "metadata": {},
   "outputs": [
    {
     "data": {
      "text/html": [
       "<div>\n",
       "<style scoped>\n",
       "    .dataframe tbody tr th:only-of-type {\n",
       "        vertical-align: middle;\n",
       "    }\n",
       "\n",
       "    .dataframe tbody tr th {\n",
       "        vertical-align: top;\n",
       "    }\n",
       "\n",
       "    .dataframe thead th {\n",
       "        text-align: right;\n",
       "    }\n",
       "</style>\n",
       "<table border=\"1\" class=\"dataframe\">\n",
       "  <thead>\n",
       "    <tr style=\"text-align: right;\">\n",
       "      <th></th>\n",
       "      <th>ExternOrderNo</th>\n",
       "      <th>SKU</th>\n",
       "      <th>Order Qty</th>\n",
       "      <th>Unnamed: 3</th>\n",
       "      <th>Unnamed: 4</th>\n",
       "    </tr>\n",
       "  </thead>\n",
       "  <tbody>\n",
       "    <tr>\n",
       "      <th>0</th>\n",
       "      <td>2001827036</td>\n",
       "      <td>8904223818706</td>\n",
       "      <td>1.0</td>\n",
       "      <td>NaN</td>\n",
       "      <td>NaN</td>\n",
       "    </tr>\n",
       "    <tr>\n",
       "      <th>1</th>\n",
       "      <td>2001827036</td>\n",
       "      <td>8904223819093</td>\n",
       "      <td>1.0</td>\n",
       "      <td>NaN</td>\n",
       "      <td>NaN</td>\n",
       "    </tr>\n",
       "    <tr>\n",
       "      <th>2</th>\n",
       "      <td>2001827036</td>\n",
       "      <td>8904223819109</td>\n",
       "      <td>1.0</td>\n",
       "      <td>NaN</td>\n",
       "      <td>NaN</td>\n",
       "    </tr>\n",
       "    <tr>\n",
       "      <th>3</th>\n",
       "      <td>2001827036</td>\n",
       "      <td>8904223818430</td>\n",
       "      <td>1.0</td>\n",
       "      <td>NaN</td>\n",
       "      <td>NaN</td>\n",
       "    </tr>\n",
       "    <tr>\n",
       "      <th>4</th>\n",
       "      <td>2001827036</td>\n",
       "      <td>8904223819277</td>\n",
       "      <td>1.0</td>\n",
       "      <td>NaN</td>\n",
       "      <td>NaN</td>\n",
       "    </tr>\n",
       "  </tbody>\n",
       "</table>\n",
       "</div>"
      ],
      "text/plain": [
       "   ExternOrderNo            SKU  Order Qty  Unnamed: 3  Unnamed: 4\n",
       "0     2001827036  8904223818706        1.0         NaN         NaN\n",
       "1     2001827036  8904223819093        1.0         NaN         NaN\n",
       "2     2001827036  8904223819109        1.0         NaN         NaN\n",
       "3     2001827036  8904223818430        1.0         NaN         NaN\n",
       "4     2001827036  8904223819277        1.0         NaN         NaN"
      ]
     },
     "execution_count": 6,
     "metadata": {},
     "output_type": "execute_result"
    }
   ],
   "source": [
    "order.head()"
   ]
  },
  {
   "cell_type": "code",
   "execution_count": 7,
   "metadata": {},
   "outputs": [
    {
     "data": {
      "text/html": [
       "<div>\n",
       "<style scoped>\n",
       "    .dataframe tbody tr th:only-of-type {\n",
       "        vertical-align: middle;\n",
       "    }\n",
       "\n",
       "    .dataframe tbody tr th {\n",
       "        vertical-align: top;\n",
       "    }\n",
       "\n",
       "    .dataframe thead th {\n",
       "        text-align: right;\n",
       "    }\n",
       "</style>\n",
       "<table border=\"1\" class=\"dataframe\">\n",
       "  <thead>\n",
       "    <tr style=\"text-align: right;\">\n",
       "      <th></th>\n",
       "      <th>Warehouse Pincode</th>\n",
       "      <th>Customer Pincode</th>\n",
       "      <th>Zone</th>\n",
       "      <th>Unnamed: 3</th>\n",
       "      <th>Unnamed: 4</th>\n",
       "    </tr>\n",
       "  </thead>\n",
       "  <tbody>\n",
       "    <tr>\n",
       "      <th>0</th>\n",
       "      <td>121003</td>\n",
       "      <td>507101</td>\n",
       "      <td>d</td>\n",
       "      <td>NaN</td>\n",
       "      <td>NaN</td>\n",
       "    </tr>\n",
       "    <tr>\n",
       "      <th>1</th>\n",
       "      <td>121003</td>\n",
       "      <td>486886</td>\n",
       "      <td>d</td>\n",
       "      <td>NaN</td>\n",
       "      <td>NaN</td>\n",
       "    </tr>\n",
       "    <tr>\n",
       "      <th>2</th>\n",
       "      <td>121003</td>\n",
       "      <td>532484</td>\n",
       "      <td>d</td>\n",
       "      <td>NaN</td>\n",
       "      <td>NaN</td>\n",
       "    </tr>\n",
       "    <tr>\n",
       "      <th>3</th>\n",
       "      <td>121003</td>\n",
       "      <td>143001</td>\n",
       "      <td>b</td>\n",
       "      <td>NaN</td>\n",
       "      <td>NaN</td>\n",
       "    </tr>\n",
       "    <tr>\n",
       "      <th>4</th>\n",
       "      <td>121003</td>\n",
       "      <td>515591</td>\n",
       "      <td>d</td>\n",
       "      <td>NaN</td>\n",
       "      <td>NaN</td>\n",
       "    </tr>\n",
       "  </tbody>\n",
       "</table>\n",
       "</div>"
      ],
      "text/plain": [
       "   Warehouse Pincode  Customer Pincode Zone  Unnamed: 3  Unnamed: 4\n",
       "0             121003            507101    d         NaN         NaN\n",
       "1             121003            486886    d         NaN         NaN\n",
       "2             121003            532484    d         NaN         NaN\n",
       "3             121003            143001    b         NaN         NaN\n",
       "4             121003            515591    d         NaN         NaN"
      ]
     },
     "execution_count": 7,
     "metadata": {},
     "output_type": "execute_result"
    }
   ],
   "source": [
    "pincode.head()"
   ]
  },
  {
   "cell_type": "code",
   "execution_count": 8,
   "metadata": {},
   "outputs": [
    {
     "data": {
      "text/html": [
       "<div>\n",
       "<style scoped>\n",
       "    .dataframe tbody tr th:only-of-type {\n",
       "        vertical-align: middle;\n",
       "    }\n",
       "\n",
       "    .dataframe tbody tr th {\n",
       "        vertical-align: top;\n",
       "    }\n",
       "\n",
       "    .dataframe thead th {\n",
       "        text-align: right;\n",
       "    }\n",
       "</style>\n",
       "<table border=\"1\" class=\"dataframe\">\n",
       "  <thead>\n",
       "    <tr style=\"text-align: right;\">\n",
       "      <th></th>\n",
       "      <th>SKU</th>\n",
       "      <th>Weight (g)</th>\n",
       "      <th>Unnamed: 2</th>\n",
       "      <th>Unnamed: 3</th>\n",
       "      <th>Unnamed: 4</th>\n",
       "    </tr>\n",
       "  </thead>\n",
       "  <tbody>\n",
       "    <tr>\n",
       "      <th>0</th>\n",
       "      <td>8904223815682</td>\n",
       "      <td>210</td>\n",
       "      <td>NaN</td>\n",
       "      <td>NaN</td>\n",
       "      <td>NaN</td>\n",
       "    </tr>\n",
       "    <tr>\n",
       "      <th>1</th>\n",
       "      <td>8904223815859</td>\n",
       "      <td>165</td>\n",
       "      <td>NaN</td>\n",
       "      <td>NaN</td>\n",
       "      <td>NaN</td>\n",
       "    </tr>\n",
       "    <tr>\n",
       "      <th>2</th>\n",
       "      <td>8904223815866</td>\n",
       "      <td>113</td>\n",
       "      <td>NaN</td>\n",
       "      <td>NaN</td>\n",
       "      <td>NaN</td>\n",
       "    </tr>\n",
       "    <tr>\n",
       "      <th>3</th>\n",
       "      <td>8904223815873</td>\n",
       "      <td>65</td>\n",
       "      <td>NaN</td>\n",
       "      <td>NaN</td>\n",
       "      <td>NaN</td>\n",
       "    </tr>\n",
       "    <tr>\n",
       "      <th>4</th>\n",
       "      <td>8904223816214</td>\n",
       "      <td>120</td>\n",
       "      <td>NaN</td>\n",
       "      <td>NaN</td>\n",
       "      <td>NaN</td>\n",
       "    </tr>\n",
       "  </tbody>\n",
       "</table>\n",
       "</div>"
      ],
      "text/plain": [
       "             SKU  Weight (g)  Unnamed: 2  Unnamed: 3  Unnamed: 4\n",
       "0  8904223815682         210         NaN         NaN         NaN\n",
       "1  8904223815859         165         NaN         NaN         NaN\n",
       "2  8904223815866         113         NaN         NaN         NaN\n",
       "3  8904223815873          65         NaN         NaN         NaN\n",
       "4  8904223816214         120         NaN         NaN         NaN"
      ]
     },
     "execution_count": 8,
     "metadata": {},
     "output_type": "execute_result"
    }
   ],
   "source": [
    "sku.head()"
   ]
  },
  {
   "cell_type": "markdown",
   "metadata": {},
   "source": [
    "<h6 style=\"font-family: 'Arial'; font-size: 20px; font-style: italic; color:orange;\">\n",
    "WAY II: Reading Multiple Different Files at Once \n",
    "</h6>"
   ]
  },
  {
   "cell_type": "code",
   "execution_count": 9,
   "metadata": {},
   "outputs": [
    {
     "name": "stdout",
     "output_type": "stream",
     "text": [
      "Initially, the folder contains: ['Courier Company - Rates.csv', 'Invoice.csv', 'Order Report.csv', 'pincodes.csv', 'SKU Master.csv']\n",
      "----------------------------------------------------------------------------------------------------------------------------------\n",
      "List of all csv files got collected and those are : ['Courier Company - Rates.csv', 'Invoice.csv', 'Order Report.csv', 'pincodes.csv', 'SKU Master.csv']\n",
      "----------------------------------------------------------------------------------------------------------------------------------\n",
      "Courier Company - Rates\n",
      "Invoice\n",
      "Order Report\n",
      "pincodes\n",
      "SKU Master\n"
     ]
    }
   ],
   "source": [
    "# Step 1: Define the folder path where the CSV files are stored\n",
    "# This is the path to the directory where all our CSV files are located.\n",
    "folder_path = 'G:\\\\DataScienceXpert_End_to_End_Solution_for_Key_Domains\\\\B2B_Shipping_Cost_Accuracy\\\\b2b_data'\n",
    "\n",
    "# Print all files initially present in the folder (useful for checking what files are there)\n",
    "print(\"Initially, the folder contains:\", os.listdir(folder_path))\n",
    "print('-'*130)\n",
    "\n",
    "# Step 2: List all CSV files in the folder\n",
    "# We filter out only the files that end with '.csv' to focus on reading CSV files.\n",
    "csv_files = [file for file in os.listdir(folder_path) if file.endswith('.csv')]\n",
    "print(\"List of all csv files got collected and those are :\",csv_files)\n",
    "print('-'*130)\n",
    "\n",
    "# Step 3: Loop through the CSV files and store them in individual DataFrames\n",
    "# A dictionary 'dataframes' will store each CSV file's data, with the filename (without '.csv') as the key.\n",
    "dataframes = {}\n",
    "\n",
    "# Step 4: Process each CSV file\n",
    "# This loop reads each file, assigns a name based on the filename, and stores the data in 'dataframes' dictionary.\n",
    "for file in csv_files:\n",
    "    file_path = os.path.join(folder_path, file)  # Full file path to read the CSV\n",
    "    \n",
    "    try:\n",
    "        # Extract the filename without the '.csv' extension to use as the DataFrame's name\n",
    "        df_name = file.split('.')[0]  # It extract only 0th indexed part before '.' ie. name of the file without csv\n",
    "        \n",
    "        # Print the DataFrame name to ensure it's working correctly\n",
    "        print(df_name)  # This will print the name of each DataFrame\n",
    "        \n",
    "        # Read the CSV file and store it in the 'dataframes' dictionary\n",
    "        dataframes[df_name] = pd.read_csv(file_path)\n",
    "    \n",
    "    except Exception as e:\n",
    "        # If there is any error during file reading, print the error and continue\n",
    "        print(f\"Error reading {file}: {e}\")\n",
    "\n",
    "# Now each CSV file is stored as a DataFrame in the 'dataframes' dictionary\n"
   ]
  },
  {
   "cell_type": "code",
   "execution_count": 10,
   "metadata": {},
   "outputs": [
    {
     "data": {
      "text/plain": [
       "{'Courier Company - Rates':    fwd_a_fixed  fwd_a_additional  fwd_b_fixed  fwd_b_additional  fwd_c_fixed  \\\n",
       " 0         29.5              23.6           33              28.3         40.1   \n",
       " \n",
       "    fwd_c_additional  fwd_d_fixed  fwd_d_additional  fwd_e_fixed  \\\n",
       " 0              38.9         45.4              44.8         56.6   \n",
       " \n",
       "    fwd_e_additional  rto_a_fixed  rto_a_additional  rto_b_fixed  \\\n",
       " 0              55.5         13.6              23.6         20.5   \n",
       " \n",
       "    rto_b_additional  rto_c_fixed  rto_c_additional  rto_d_fixed  \\\n",
       " 0              28.3         31.9              38.9         41.3   \n",
       " \n",
       "    rto_d_additional  rto_e_fixed  rto_e_additional  \n",
       " 0              44.8         50.7              55.5  ,\n",
       " 'Invoice':           AWB Code    Order ID  Charged Weight  Warehouse Pincode  \\\n",
       " 0    1091117222124  2001806232            1.30             121003   \n",
       " 1    1091117222194  2001806273            1.00             121003   \n",
       " 2    1091117222931  2001806408            2.50             121003   \n",
       " 3    1091117223244  2001806458            1.00             121003   \n",
       " 4    1091117229345  2001807012            0.15             121003   \n",
       " ..             ...         ...             ...                ...   \n",
       " 119  1091118551656  2001812941            0.73             121003   \n",
       " 120  1091117614452  2001809383            0.50             121003   \n",
       " 121  1091120922803  2001820978            0.50             121003   \n",
       " 122  1091121844806  2001811475            0.50             121003   \n",
       " 123  1091121846136  2001811305            0.50             121003   \n",
       " \n",
       "      Customer Pincode Zone         Type of Shipment  Billing Amount (Rs.)  \n",
       " 0              507101    d          Forward charges                 135.0  \n",
       " 1              486886    d          Forward charges                  90.2  \n",
       " 2              532484    d          Forward charges                 224.6  \n",
       " 3              143001    b          Forward charges                  61.3  \n",
       " 4              515591    d          Forward charges                  45.4  \n",
       " ..                ...  ...                      ...                   ...  \n",
       " 119            325207    d          Forward charges                  90.2  \n",
       " 120            303702    d  Forward and RTO charges                  86.7  \n",
       " 121            313301    d          Forward charges                  45.4  \n",
       " 122            173212    b          Forward charges                  33.0  \n",
       " 123            302020    d          Forward charges                  45.4  \n",
       " \n",
       " [124 rows x 8 columns],\n",
       " 'Order Report':      ExternOrderNo            SKU  Order Qty  Unnamed: 3  Unnamed: 4\n",
       " 0       2001827036  8904223818706        1.0         NaN         NaN\n",
       " 1       2001827036  8904223819093        1.0         NaN         NaN\n",
       " 2       2001827036  8904223819109        1.0         NaN         NaN\n",
       " 3       2001827036  8904223818430        1.0         NaN         NaN\n",
       " 4       2001827036  8904223819277        1.0         NaN         NaN\n",
       " ..             ...            ...        ...         ...         ...\n",
       " 395     2001806229  8904223818942        1.0         NaN         NaN\n",
       " 396     2001806229  8904223818850        1.0         NaN         NaN\n",
       " 397     2001806226  8904223818850        2.0         NaN         NaN\n",
       " 398     2001806210  8904223816214        1.0         NaN         NaN\n",
       " 399     2001806210  8904223818874        1.0         NaN         NaN\n",
       " \n",
       " [400 rows x 5 columns],\n",
       " 'pincodes':      Warehouse Pincode  Customer Pincode Zone  Unnamed: 3  Unnamed: 4\n",
       " 0               121003            507101    d         NaN         NaN\n",
       " 1               121003            486886    d         NaN         NaN\n",
       " 2               121003            532484    d         NaN         NaN\n",
       " 3               121003            143001    b         NaN         NaN\n",
       " 4               121003            515591    d         NaN         NaN\n",
       " ..                 ...               ...  ...         ...         ...\n",
       " 119             121003            325207    b         NaN         NaN\n",
       " 120             121003            303702    b         NaN         NaN\n",
       " 121             121003            313301    b         NaN         NaN\n",
       " 122             121003            173212    e         NaN         NaN\n",
       " 123             121003            302020    b         NaN         NaN\n",
       " \n",
       " [124 rows x 5 columns],\n",
       " 'SKU Master':               SKU  Weight (g)  Unnamed: 2  Unnamed: 3  Unnamed: 4\n",
       " 0   8904223815682         210         NaN         NaN         NaN\n",
       " 1   8904223815859         165         NaN         NaN         NaN\n",
       " 2   8904223815866         113         NaN         NaN         NaN\n",
       " 3   8904223815873          65         NaN         NaN         NaN\n",
       " 4   8904223816214         120         NaN         NaN         NaN\n",
       " ..            ...         ...         ...         ...         ...\n",
       " 61  8904223819505         210         NaN         NaN         NaN\n",
       " 62  8904223819499         210         NaN         NaN         NaN\n",
       " 63  8904223819512         210         NaN         NaN         NaN\n",
       " 64  8904223819543         300         NaN         NaN         NaN\n",
       " 65     SACHETS001          10         NaN         NaN         NaN\n",
       " \n",
       " [66 rows x 5 columns]}"
      ]
     },
     "execution_count": 10,
     "metadata": {},
     "output_type": "execute_result"
    }
   ],
   "source": [
    "dataframes   #This is the dataframe having key as name of the file without .csv extention and values as the table elements."
   ]
  },
  {
   "cell_type": "code",
   "execution_count": 11,
   "metadata": {},
   "outputs": [
    {
     "data": {
      "text/html": [
       "<div>\n",
       "<style scoped>\n",
       "    .dataframe tbody tr th:only-of-type {\n",
       "        vertical-align: middle;\n",
       "    }\n",
       "\n",
       "    .dataframe tbody tr th {\n",
       "        vertical-align: top;\n",
       "    }\n",
       "\n",
       "    .dataframe thead th {\n",
       "        text-align: right;\n",
       "    }\n",
       "</style>\n",
       "<table border=\"1\" class=\"dataframe\">\n",
       "  <thead>\n",
       "    <tr style=\"text-align: right;\">\n",
       "      <th></th>\n",
       "      <th>fwd_a_fixed</th>\n",
       "      <th>fwd_a_additional</th>\n",
       "      <th>fwd_b_fixed</th>\n",
       "      <th>fwd_b_additional</th>\n",
       "      <th>fwd_c_fixed</th>\n",
       "      <th>fwd_c_additional</th>\n",
       "      <th>fwd_d_fixed</th>\n",
       "      <th>fwd_d_additional</th>\n",
       "      <th>fwd_e_fixed</th>\n",
       "      <th>fwd_e_additional</th>\n",
       "      <th>rto_a_fixed</th>\n",
       "      <th>rto_a_additional</th>\n",
       "      <th>rto_b_fixed</th>\n",
       "      <th>rto_b_additional</th>\n",
       "      <th>rto_c_fixed</th>\n",
       "      <th>rto_c_additional</th>\n",
       "      <th>rto_d_fixed</th>\n",
       "      <th>rto_d_additional</th>\n",
       "      <th>rto_e_fixed</th>\n",
       "      <th>rto_e_additional</th>\n",
       "    </tr>\n",
       "  </thead>\n",
       "  <tbody>\n",
       "    <tr>\n",
       "      <th>0</th>\n",
       "      <td>29.5</td>\n",
       "      <td>23.6</td>\n",
       "      <td>33</td>\n",
       "      <td>28.3</td>\n",
       "      <td>40.1</td>\n",
       "      <td>38.9</td>\n",
       "      <td>45.4</td>\n",
       "      <td>44.8</td>\n",
       "      <td>56.6</td>\n",
       "      <td>55.5</td>\n",
       "      <td>13.6</td>\n",
       "      <td>23.6</td>\n",
       "      <td>20.5</td>\n",
       "      <td>28.3</td>\n",
       "      <td>31.9</td>\n",
       "      <td>38.9</td>\n",
       "      <td>41.3</td>\n",
       "      <td>44.8</td>\n",
       "      <td>50.7</td>\n",
       "      <td>55.5</td>\n",
       "    </tr>\n",
       "  </tbody>\n",
       "</table>\n",
       "</div>"
      ],
      "text/plain": [
       "   fwd_a_fixed  fwd_a_additional  fwd_b_fixed  fwd_b_additional  fwd_c_fixed  \\\n",
       "0         29.5              23.6           33              28.3         40.1   \n",
       "\n",
       "   fwd_c_additional  fwd_d_fixed  fwd_d_additional  fwd_e_fixed  \\\n",
       "0              38.9         45.4              44.8         56.6   \n",
       "\n",
       "   fwd_e_additional  rto_a_fixed  rto_a_additional  rto_b_fixed  \\\n",
       "0              55.5         13.6              23.6         20.5   \n",
       "\n",
       "   rto_b_additional  rto_c_fixed  rto_c_additional  rto_d_fixed  \\\n",
       "0              28.3         31.9              38.9         41.3   \n",
       "\n",
       "   rto_d_additional  rto_e_fixed  rto_e_additional  \n",
       "0              44.8         50.7              55.5  "
      ]
     },
     "execution_count": 11,
     "metadata": {},
     "output_type": "execute_result"
    }
   ],
   "source": [
    "dataframes['Courier Company - Rates'].head()"
   ]
  },
  {
   "cell_type": "code",
   "execution_count": 12,
   "metadata": {},
   "outputs": [
    {
     "data": {
      "text/html": [
       "<div>\n",
       "<style scoped>\n",
       "    .dataframe tbody tr th:only-of-type {\n",
       "        vertical-align: middle;\n",
       "    }\n",
       "\n",
       "    .dataframe tbody tr th {\n",
       "        vertical-align: top;\n",
       "    }\n",
       "\n",
       "    .dataframe thead th {\n",
       "        text-align: right;\n",
       "    }\n",
       "</style>\n",
       "<table border=\"1\" class=\"dataframe\">\n",
       "  <thead>\n",
       "    <tr style=\"text-align: right;\">\n",
       "      <th></th>\n",
       "      <th>AWB Code</th>\n",
       "      <th>Order ID</th>\n",
       "      <th>Charged Weight</th>\n",
       "      <th>Warehouse Pincode</th>\n",
       "      <th>Customer Pincode</th>\n",
       "      <th>Zone</th>\n",
       "      <th>Type of Shipment</th>\n",
       "      <th>Billing Amount (Rs.)</th>\n",
       "    </tr>\n",
       "  </thead>\n",
       "  <tbody>\n",
       "    <tr>\n",
       "      <th>0</th>\n",
       "      <td>1091117222124</td>\n",
       "      <td>2001806232</td>\n",
       "      <td>1.30</td>\n",
       "      <td>121003</td>\n",
       "      <td>507101</td>\n",
       "      <td>d</td>\n",
       "      <td>Forward charges</td>\n",
       "      <td>135.0</td>\n",
       "    </tr>\n",
       "    <tr>\n",
       "      <th>1</th>\n",
       "      <td>1091117222194</td>\n",
       "      <td>2001806273</td>\n",
       "      <td>1.00</td>\n",
       "      <td>121003</td>\n",
       "      <td>486886</td>\n",
       "      <td>d</td>\n",
       "      <td>Forward charges</td>\n",
       "      <td>90.2</td>\n",
       "    </tr>\n",
       "    <tr>\n",
       "      <th>2</th>\n",
       "      <td>1091117222931</td>\n",
       "      <td>2001806408</td>\n",
       "      <td>2.50</td>\n",
       "      <td>121003</td>\n",
       "      <td>532484</td>\n",
       "      <td>d</td>\n",
       "      <td>Forward charges</td>\n",
       "      <td>224.6</td>\n",
       "    </tr>\n",
       "    <tr>\n",
       "      <th>3</th>\n",
       "      <td>1091117223244</td>\n",
       "      <td>2001806458</td>\n",
       "      <td>1.00</td>\n",
       "      <td>121003</td>\n",
       "      <td>143001</td>\n",
       "      <td>b</td>\n",
       "      <td>Forward charges</td>\n",
       "      <td>61.3</td>\n",
       "    </tr>\n",
       "    <tr>\n",
       "      <th>4</th>\n",
       "      <td>1091117229345</td>\n",
       "      <td>2001807012</td>\n",
       "      <td>0.15</td>\n",
       "      <td>121003</td>\n",
       "      <td>515591</td>\n",
       "      <td>d</td>\n",
       "      <td>Forward charges</td>\n",
       "      <td>45.4</td>\n",
       "    </tr>\n",
       "  </tbody>\n",
       "</table>\n",
       "</div>"
      ],
      "text/plain": [
       "        AWB Code    Order ID  Charged Weight  Warehouse Pincode  \\\n",
       "0  1091117222124  2001806232            1.30             121003   \n",
       "1  1091117222194  2001806273            1.00             121003   \n",
       "2  1091117222931  2001806408            2.50             121003   \n",
       "3  1091117223244  2001806458            1.00             121003   \n",
       "4  1091117229345  2001807012            0.15             121003   \n",
       "\n",
       "   Customer Pincode Zone Type of Shipment  Billing Amount (Rs.)  \n",
       "0            507101    d  Forward charges                 135.0  \n",
       "1            486886    d  Forward charges                  90.2  \n",
       "2            532484    d  Forward charges                 224.6  \n",
       "3            143001    b  Forward charges                  61.3  \n",
       "4            515591    d  Forward charges                  45.4  "
      ]
     },
     "execution_count": 12,
     "metadata": {},
     "output_type": "execute_result"
    }
   ],
   "source": [
    "dataframes['Invoice'].head()"
   ]
  },
  {
   "cell_type": "code",
   "execution_count": 13,
   "metadata": {},
   "outputs": [
    {
     "data": {
      "text/html": [
       "<div>\n",
       "<style scoped>\n",
       "    .dataframe tbody tr th:only-of-type {\n",
       "        vertical-align: middle;\n",
       "    }\n",
       "\n",
       "    .dataframe tbody tr th {\n",
       "        vertical-align: top;\n",
       "    }\n",
       "\n",
       "    .dataframe thead th {\n",
       "        text-align: right;\n",
       "    }\n",
       "</style>\n",
       "<table border=\"1\" class=\"dataframe\">\n",
       "  <thead>\n",
       "    <tr style=\"text-align: right;\">\n",
       "      <th></th>\n",
       "      <th>ExternOrderNo</th>\n",
       "      <th>SKU</th>\n",
       "      <th>Order Qty</th>\n",
       "      <th>Unnamed: 3</th>\n",
       "      <th>Unnamed: 4</th>\n",
       "    </tr>\n",
       "  </thead>\n",
       "  <tbody>\n",
       "    <tr>\n",
       "      <th>0</th>\n",
       "      <td>2001827036</td>\n",
       "      <td>8904223818706</td>\n",
       "      <td>1.0</td>\n",
       "      <td>NaN</td>\n",
       "      <td>NaN</td>\n",
       "    </tr>\n",
       "    <tr>\n",
       "      <th>1</th>\n",
       "      <td>2001827036</td>\n",
       "      <td>8904223819093</td>\n",
       "      <td>1.0</td>\n",
       "      <td>NaN</td>\n",
       "      <td>NaN</td>\n",
       "    </tr>\n",
       "    <tr>\n",
       "      <th>2</th>\n",
       "      <td>2001827036</td>\n",
       "      <td>8904223819109</td>\n",
       "      <td>1.0</td>\n",
       "      <td>NaN</td>\n",
       "      <td>NaN</td>\n",
       "    </tr>\n",
       "    <tr>\n",
       "      <th>3</th>\n",
       "      <td>2001827036</td>\n",
       "      <td>8904223818430</td>\n",
       "      <td>1.0</td>\n",
       "      <td>NaN</td>\n",
       "      <td>NaN</td>\n",
       "    </tr>\n",
       "    <tr>\n",
       "      <th>4</th>\n",
       "      <td>2001827036</td>\n",
       "      <td>8904223819277</td>\n",
       "      <td>1.0</td>\n",
       "      <td>NaN</td>\n",
       "      <td>NaN</td>\n",
       "    </tr>\n",
       "  </tbody>\n",
       "</table>\n",
       "</div>"
      ],
      "text/plain": [
       "   ExternOrderNo            SKU  Order Qty  Unnamed: 3  Unnamed: 4\n",
       "0     2001827036  8904223818706        1.0         NaN         NaN\n",
       "1     2001827036  8904223819093        1.0         NaN         NaN\n",
       "2     2001827036  8904223819109        1.0         NaN         NaN\n",
       "3     2001827036  8904223818430        1.0         NaN         NaN\n",
       "4     2001827036  8904223819277        1.0         NaN         NaN"
      ]
     },
     "execution_count": 13,
     "metadata": {},
     "output_type": "execute_result"
    }
   ],
   "source": [
    "dataframes['Order Report'].head()"
   ]
  },
  {
   "cell_type": "code",
   "execution_count": 14,
   "metadata": {},
   "outputs": [
    {
     "data": {
      "text/html": [
       "<div>\n",
       "<style scoped>\n",
       "    .dataframe tbody tr th:only-of-type {\n",
       "        vertical-align: middle;\n",
       "    }\n",
       "\n",
       "    .dataframe tbody tr th {\n",
       "        vertical-align: top;\n",
       "    }\n",
       "\n",
       "    .dataframe thead th {\n",
       "        text-align: right;\n",
       "    }\n",
       "</style>\n",
       "<table border=\"1\" class=\"dataframe\">\n",
       "  <thead>\n",
       "    <tr style=\"text-align: right;\">\n",
       "      <th></th>\n",
       "      <th>Warehouse Pincode</th>\n",
       "      <th>Customer Pincode</th>\n",
       "      <th>Zone</th>\n",
       "      <th>Unnamed: 3</th>\n",
       "      <th>Unnamed: 4</th>\n",
       "    </tr>\n",
       "  </thead>\n",
       "  <tbody>\n",
       "    <tr>\n",
       "      <th>0</th>\n",
       "      <td>121003</td>\n",
       "      <td>507101</td>\n",
       "      <td>d</td>\n",
       "      <td>NaN</td>\n",
       "      <td>NaN</td>\n",
       "    </tr>\n",
       "    <tr>\n",
       "      <th>1</th>\n",
       "      <td>121003</td>\n",
       "      <td>486886</td>\n",
       "      <td>d</td>\n",
       "      <td>NaN</td>\n",
       "      <td>NaN</td>\n",
       "    </tr>\n",
       "    <tr>\n",
       "      <th>2</th>\n",
       "      <td>121003</td>\n",
       "      <td>532484</td>\n",
       "      <td>d</td>\n",
       "      <td>NaN</td>\n",
       "      <td>NaN</td>\n",
       "    </tr>\n",
       "    <tr>\n",
       "      <th>3</th>\n",
       "      <td>121003</td>\n",
       "      <td>143001</td>\n",
       "      <td>b</td>\n",
       "      <td>NaN</td>\n",
       "      <td>NaN</td>\n",
       "    </tr>\n",
       "    <tr>\n",
       "      <th>4</th>\n",
       "      <td>121003</td>\n",
       "      <td>515591</td>\n",
       "      <td>d</td>\n",
       "      <td>NaN</td>\n",
       "      <td>NaN</td>\n",
       "    </tr>\n",
       "  </tbody>\n",
       "</table>\n",
       "</div>"
      ],
      "text/plain": [
       "   Warehouse Pincode  Customer Pincode Zone  Unnamed: 3  Unnamed: 4\n",
       "0             121003            507101    d         NaN         NaN\n",
       "1             121003            486886    d         NaN         NaN\n",
       "2             121003            532484    d         NaN         NaN\n",
       "3             121003            143001    b         NaN         NaN\n",
       "4             121003            515591    d         NaN         NaN"
      ]
     },
     "execution_count": 14,
     "metadata": {},
     "output_type": "execute_result"
    }
   ],
   "source": [
    "dataframes['pincodes'].head()"
   ]
  },
  {
   "cell_type": "code",
   "execution_count": 15,
   "metadata": {},
   "outputs": [
    {
     "data": {
      "text/html": [
       "<div>\n",
       "<style scoped>\n",
       "    .dataframe tbody tr th:only-of-type {\n",
       "        vertical-align: middle;\n",
       "    }\n",
       "\n",
       "    .dataframe tbody tr th {\n",
       "        vertical-align: top;\n",
       "    }\n",
       "\n",
       "    .dataframe thead th {\n",
       "        text-align: right;\n",
       "    }\n",
       "</style>\n",
       "<table border=\"1\" class=\"dataframe\">\n",
       "  <thead>\n",
       "    <tr style=\"text-align: right;\">\n",
       "      <th></th>\n",
       "      <th>SKU</th>\n",
       "      <th>Weight (g)</th>\n",
       "      <th>Unnamed: 2</th>\n",
       "      <th>Unnamed: 3</th>\n",
       "      <th>Unnamed: 4</th>\n",
       "    </tr>\n",
       "  </thead>\n",
       "  <tbody>\n",
       "    <tr>\n",
       "      <th>0</th>\n",
       "      <td>8904223815682</td>\n",
       "      <td>210</td>\n",
       "      <td>NaN</td>\n",
       "      <td>NaN</td>\n",
       "      <td>NaN</td>\n",
       "    </tr>\n",
       "    <tr>\n",
       "      <th>1</th>\n",
       "      <td>8904223815859</td>\n",
       "      <td>165</td>\n",
       "      <td>NaN</td>\n",
       "      <td>NaN</td>\n",
       "      <td>NaN</td>\n",
       "    </tr>\n",
       "    <tr>\n",
       "      <th>2</th>\n",
       "      <td>8904223815866</td>\n",
       "      <td>113</td>\n",
       "      <td>NaN</td>\n",
       "      <td>NaN</td>\n",
       "      <td>NaN</td>\n",
       "    </tr>\n",
       "    <tr>\n",
       "      <th>3</th>\n",
       "      <td>8904223815873</td>\n",
       "      <td>65</td>\n",
       "      <td>NaN</td>\n",
       "      <td>NaN</td>\n",
       "      <td>NaN</td>\n",
       "    </tr>\n",
       "    <tr>\n",
       "      <th>4</th>\n",
       "      <td>8904223816214</td>\n",
       "      <td>120</td>\n",
       "      <td>NaN</td>\n",
       "      <td>NaN</td>\n",
       "      <td>NaN</td>\n",
       "    </tr>\n",
       "  </tbody>\n",
       "</table>\n",
       "</div>"
      ],
      "text/plain": [
       "             SKU  Weight (g)  Unnamed: 2  Unnamed: 3  Unnamed: 4\n",
       "0  8904223815682         210         NaN         NaN         NaN\n",
       "1  8904223815859         165         NaN         NaN         NaN\n",
       "2  8904223815866         113         NaN         NaN         NaN\n",
       "3  8904223815873          65         NaN         NaN         NaN\n",
       "4  8904223816214         120         NaN         NaN         NaN"
      ]
     },
     "execution_count": 15,
     "metadata": {},
     "output_type": "execute_result"
    }
   ],
   "source": [
    "dataframes['SKU Master'].head()"
   ]
  },
  {
   "cell_type": "markdown",
   "metadata": {},
   "source": [
    "<hr style=\"border-top: 3px solid yellow;\">"
   ]
  },
  {
   "cell_type": "markdown",
   "metadata": {},
   "source": [
    "<h1 style=\"color:lime;font-style:italic; font-family:Georgia\">3. Basic Data Inspection:</h1>"
   ]
  },
  {
   "cell_type": "markdown",
   "metadata": {},
   "source": [
    "<h6 style=\"font-family: 'Arial'; font-size: 20px; font-style: italic; color: aqua;\">\n",
    "Checking Number of Records and Features</h6>"
   ]
  },
  {
   "cell_type": "code",
   "execution_count": 16,
   "metadata": {},
   "outputs": [
    {
     "name": "stdout",
     "output_type": "stream",
     "text": [
      "Number of records in courier table 1\n",
      "Number of features in courier table 20\n",
      "----------------------------------------------------------------------------------------------------------------------------------\n",
      "Number of records in invoice table 124\n",
      "Number of features in invoice table 8\n",
      "----------------------------------------------------------------------------------------------------------------------------------\n",
      "Number of records in order table 400\n",
      "Number of features in order table 5\n",
      "----------------------------------------------------------------------------------------------------------------------------------\n",
      "Number of records in pincode table 124\n",
      "Number of features in pincode table 5\n",
      "----------------------------------------------------------------------------------------------------------------------------------\n",
      "Number of records in sku(stock keeping unit) table 66\n",
      "Number of features in sku(stock keeping unit) table 5\n"
     ]
    }
   ],
   "source": [
    "# Lets take the dataframes created individually...\n",
    "print(f\"Number of records in courier table {courier.shape[0]}\")\n",
    "print(f\"Number of features in courier table {courier.shape[1]}\")\n",
    "print('-'*130)\n",
    "\n",
    "print(f\"Number of records in invoice table {invoice.shape[0]}\")\n",
    "print(f\"Number of features in invoice table {invoice.shape[1]}\")\n",
    "print('-'*130)\n",
    "\n",
    "print(f\"Number of records in order table {order.shape[0]}\")\n",
    "print(f\"Number of features in order table {order.shape[1]}\")\n",
    "print('-'*130)\n",
    "\n",
    "print(f\"Number of records in pincode table {pincode.shape[0]}\")\n",
    "print(f\"Number of features in pincode table {pincode.shape[1]}\")\n",
    "print('-'*130)\n",
    "\n",
    "print(f\"Number of records in sku(stock keeping unit) table {sku.shape[0]}\")\n",
    "print(f\"Number of features in sku(stock keeping unit) table {sku.shape[1]}\")"
   ]
  },
  {
   "cell_type": "markdown",
   "metadata": {},
   "source": [
    "<hr style=\"border-top: 3px solid blue;\">"
   ]
  },
  {
   "cell_type": "markdown",
   "metadata": {},
   "source": [
    "<h6 style=\"font-family: 'Arial'; font-size: 20px; font-style: italic; color: #7DF9FF;\">\n",
    "Checking Columns/Features Present</h6>"
   ]
  },
  {
   "cell_type": "code",
   "execution_count": 17,
   "metadata": {},
   "outputs": [
    {
     "name": "stdout",
     "output_type": "stream",
     "text": [
      "Features/Columns in Courier Table are:\n",
      " Index(['fwd_a_fixed', 'fwd_a_additional', 'fwd_b_fixed', 'fwd_b_additional',\n",
      "       'fwd_c_fixed', 'fwd_c_additional', 'fwd_d_fixed', 'fwd_d_additional',\n",
      "       'fwd_e_fixed', 'fwd_e_additional', 'rto_a_fixed', 'rto_a_additional',\n",
      "       'rto_b_fixed', 'rto_b_additional', 'rto_c_fixed', 'rto_c_additional',\n",
      "       'rto_d_fixed', 'rto_d_additional', 'rto_e_fixed', 'rto_e_additional'],\n",
      "      dtype='object')\n",
      "----------------------------------------------------------------------------------------------------------------------------------\n",
      "Features/Columns in Invoice Table are:\n",
      " Index(['AWB Code', 'Order ID', 'Charged Weight', 'Warehouse Pincode',\n",
      "       'Customer Pincode', 'Zone', 'Type of Shipment', 'Billing Amount (Rs.)'],\n",
      "      dtype='object')\n",
      "----------------------------------------------------------------------------------------------------------------------------------\n",
      "Features/Columns in Order Table are:\n",
      " Index(['ExternOrderNo', 'SKU', 'Order Qty', 'Unnamed: 3', 'Unnamed: 4'], dtype='object')\n",
      "----------------------------------------------------------------------------------------------------------------------------------\n",
      "Features/Columns in Pincode Table are:\n",
      " Index(['Warehouse Pincode', 'Customer Pincode', 'Zone', 'Unnamed: 3',\n",
      "       'Unnamed: 4'],\n",
      "      dtype='object')\n",
      "----------------------------------------------------------------------------------------------------------------------------------\n",
      "Features/Columns in SKU Table are:\n",
      " Index(['SKU', 'Weight (g)', 'Unnamed: 2', 'Unnamed: 3', 'Unnamed: 4'], dtype='object')\n"
     ]
    }
   ],
   "source": [
    "print('Features/Columns in Courier Table are:\\n',courier.columns)\n",
    "print('-'*130)\n",
    "\n",
    "print('Features/Columns in Invoice Table are:\\n',invoice.columns)\n",
    "print('-'*130)\n",
    "\n",
    "print('Features/Columns in Order Table are:\\n',order.columns)\n",
    "print('-'*130)\n",
    "\n",
    "print('Features/Columns in Pincode Table are:\\n',pincode.columns)\n",
    "print('-'*130)\n",
    "\n",
    "print('Features/Columns in SKU Table are:\\n',sku.columns)\n"
   ]
  },
  {
   "cell_type": "markdown",
   "metadata": {},
   "source": [
    "<h7 style=\"color:gold;font-style:italic; font-family:Georgia\">Observation:</h7>\n",
    "\n",
    "- **`Courier Table`**: Contains forward (`fwd_`) and return (`rto_`) fixed and additional charges categorized by tiers (A to E). Likely represents shipping costs based on different zones or package types.\n",
    "  \n",
    "- **`Invoice Table`**: Includes key billing details such as tracking (AWB Code), order identification, shipping weight, pincode information, shipment type, and total billing amount. Useful for cost analysis and shipment tracking.\n",
    "\n",
    "- **`Order Table`**: Focuses on order details like external order numbers, SKUs, and quantities. The presence of unnamed columns suggests missing or irrelevant data that may need cleaning.\n",
    "\n",
    "- **`Pincode Table`**: Maps warehouse and customer pincodes to their respective zones, potentially aiding in zone-based cost calculations. Unnamed columns again suggest missing or irrelevant data.\n",
    "\n",
    "- **`SKU Table`**: Lists SKU (product codes) and their respective weights, which are crucial for calculating shipping costs. Unnamed columns here also indicate potential need for data cleanup."
   ]
  },
  {
   "cell_type": "markdown",
   "metadata": {},
   "source": [
    "<hr style=\"border-top: 3px solid blue;\">"
   ]
  },
  {
   "cell_type": "markdown",
   "metadata": {},
   "source": [
    "<h6 style=\"font-family: 'Arial'; font-size: 20px; font-style: italic; color: aqua\">\n",
    "Random Sample of the dataset.</h6>"
   ]
  },
  {
   "cell_type": "code",
   "execution_count": 18,
   "metadata": {},
   "outputs": [
    {
     "name": "stdout",
     "output_type": "stream",
     "text": [
      "Random Sample from Courier Table:\n",
      "\n"
     ]
    },
    {
     "data": {
      "text/html": [
       "<div>\n",
       "<style scoped>\n",
       "    .dataframe tbody tr th:only-of-type {\n",
       "        vertical-align: middle;\n",
       "    }\n",
       "\n",
       "    .dataframe tbody tr th {\n",
       "        vertical-align: top;\n",
       "    }\n",
       "\n",
       "    .dataframe thead th {\n",
       "        text-align: right;\n",
       "    }\n",
       "</style>\n",
       "<table border=\"1\" class=\"dataframe\">\n",
       "  <thead>\n",
       "    <tr style=\"text-align: right;\">\n",
       "      <th></th>\n",
       "      <th>fwd_a_fixed</th>\n",
       "      <th>fwd_a_additional</th>\n",
       "      <th>fwd_b_fixed</th>\n",
       "      <th>fwd_b_additional</th>\n",
       "      <th>fwd_c_fixed</th>\n",
       "      <th>fwd_c_additional</th>\n",
       "      <th>fwd_d_fixed</th>\n",
       "      <th>fwd_d_additional</th>\n",
       "      <th>fwd_e_fixed</th>\n",
       "      <th>fwd_e_additional</th>\n",
       "      <th>rto_a_fixed</th>\n",
       "      <th>rto_a_additional</th>\n",
       "      <th>rto_b_fixed</th>\n",
       "      <th>rto_b_additional</th>\n",
       "      <th>rto_c_fixed</th>\n",
       "      <th>rto_c_additional</th>\n",
       "      <th>rto_d_fixed</th>\n",
       "      <th>rto_d_additional</th>\n",
       "      <th>rto_e_fixed</th>\n",
       "      <th>rto_e_additional</th>\n",
       "    </tr>\n",
       "  </thead>\n",
       "  <tbody>\n",
       "    <tr>\n",
       "      <th>0</th>\n",
       "      <td>29.5</td>\n",
       "      <td>23.6</td>\n",
       "      <td>33</td>\n",
       "      <td>28.3</td>\n",
       "      <td>40.1</td>\n",
       "      <td>38.9</td>\n",
       "      <td>45.4</td>\n",
       "      <td>44.8</td>\n",
       "      <td>56.6</td>\n",
       "      <td>55.5</td>\n",
       "      <td>13.6</td>\n",
       "      <td>23.6</td>\n",
       "      <td>20.5</td>\n",
       "      <td>28.3</td>\n",
       "      <td>31.9</td>\n",
       "      <td>38.9</td>\n",
       "      <td>41.3</td>\n",
       "      <td>44.8</td>\n",
       "      <td>50.7</td>\n",
       "      <td>55.5</td>\n",
       "    </tr>\n",
       "  </tbody>\n",
       "</table>\n",
       "</div>"
      ],
      "text/plain": [
       "   fwd_a_fixed  fwd_a_additional  fwd_b_fixed  fwd_b_additional  fwd_c_fixed  \\\n",
       "0         29.5              23.6           33              28.3         40.1   \n",
       "\n",
       "   fwd_c_additional  fwd_d_fixed  fwd_d_additional  fwd_e_fixed  \\\n",
       "0              38.9         45.4              44.8         56.6   \n",
       "\n",
       "   fwd_e_additional  rto_a_fixed  rto_a_additional  rto_b_fixed  \\\n",
       "0              55.5         13.6              23.6         20.5   \n",
       "\n",
       "   rto_b_additional  rto_c_fixed  rto_c_additional  rto_d_fixed  \\\n",
       "0              28.3         31.9              38.9         41.3   \n",
       "\n",
       "   rto_d_additional  rto_e_fixed  rto_e_additional  \n",
       "0              44.8         50.7              55.5  "
      ]
     },
     "execution_count": 18,
     "metadata": {},
     "output_type": "execute_result"
    }
   ],
   "source": [
    "print(\"Random Sample from Courier Table:\\n\")\n",
    "courier.sample()   # Since Number of Record is only one."
   ]
  },
  {
   "cell_type": "code",
   "execution_count": 19,
   "metadata": {},
   "outputs": [
    {
     "name": "stdout",
     "output_type": "stream",
     "text": [
      "Random Samples from Invoice Table:\n",
      "\n"
     ]
    },
    {
     "data": {
      "text/html": [
       "<div>\n",
       "<style scoped>\n",
       "    .dataframe tbody tr th:only-of-type {\n",
       "        vertical-align: middle;\n",
       "    }\n",
       "\n",
       "    .dataframe tbody tr th {\n",
       "        vertical-align: top;\n",
       "    }\n",
       "\n",
       "    .dataframe thead th {\n",
       "        text-align: right;\n",
       "    }\n",
       "</style>\n",
       "<table border=\"1\" class=\"dataframe\">\n",
       "  <thead>\n",
       "    <tr style=\"text-align: right;\">\n",
       "      <th></th>\n",
       "      <th>AWB Code</th>\n",
       "      <th>Order ID</th>\n",
       "      <th>Charged Weight</th>\n",
       "      <th>Warehouse Pincode</th>\n",
       "      <th>Customer Pincode</th>\n",
       "      <th>Zone</th>\n",
       "      <th>Type of Shipment</th>\n",
       "      <th>Billing Amount (Rs.)</th>\n",
       "    </tr>\n",
       "  </thead>\n",
       "  <tbody>\n",
       "    <tr>\n",
       "      <th>57</th>\n",
       "      <td>1091117795531</td>\n",
       "      <td>2001809794</td>\n",
       "      <td>1.50</td>\n",
       "      <td>121003</td>\n",
       "      <td>580007</td>\n",
       "      <td>d</td>\n",
       "      <td>Forward charges</td>\n",
       "      <td>135.0</td>\n",
       "    </tr>\n",
       "    <tr>\n",
       "      <th>79</th>\n",
       "      <td>1091121031745</td>\n",
       "      <td>2001821679</td>\n",
       "      <td>0.20</td>\n",
       "      <td>121003</td>\n",
       "      <td>307026</td>\n",
       "      <td>d</td>\n",
       "      <td>Forward charges</td>\n",
       "      <td>45.4</td>\n",
       "    </tr>\n",
       "    <tr>\n",
       "      <th>86</th>\n",
       "      <td>1091121306101</td>\n",
       "      <td>2001820690</td>\n",
       "      <td>0.15</td>\n",
       "      <td>121003</td>\n",
       "      <td>313003</td>\n",
       "      <td>d</td>\n",
       "      <td>Forward charges</td>\n",
       "      <td>45.4</td>\n",
       "    </tr>\n",
       "    <tr>\n",
       "      <th>94</th>\n",
       "      <td>1091117229183</td>\n",
       "      <td>2001806968</td>\n",
       "      <td>0.68</td>\n",
       "      <td>121003</td>\n",
       "      <td>305801</td>\n",
       "      <td>d</td>\n",
       "      <td>Forward charges</td>\n",
       "      <td>90.2</td>\n",
       "    </tr>\n",
       "    <tr>\n",
       "      <th>6</th>\n",
       "      <td>1091117229776</td>\n",
       "      <td>2001806885</td>\n",
       "      <td>1.00</td>\n",
       "      <td>121003</td>\n",
       "      <td>208019</td>\n",
       "      <td>b</td>\n",
       "      <td>Forward charges</td>\n",
       "      <td>61.3</td>\n",
       "    </tr>\n",
       "  </tbody>\n",
       "</table>\n",
       "</div>"
      ],
      "text/plain": [
       "         AWB Code    Order ID  Charged Weight  Warehouse Pincode  \\\n",
       "57  1091117795531  2001809794            1.50             121003   \n",
       "79  1091121031745  2001821679            0.20             121003   \n",
       "86  1091121306101  2001820690            0.15             121003   \n",
       "94  1091117229183  2001806968            0.68             121003   \n",
       "6   1091117229776  2001806885            1.00             121003   \n",
       "\n",
       "    Customer Pincode Zone Type of Shipment  Billing Amount (Rs.)  \n",
       "57            580007    d  Forward charges                 135.0  \n",
       "79            307026    d  Forward charges                  45.4  \n",
       "86            313003    d  Forward charges                  45.4  \n",
       "94            305801    d  Forward charges                  90.2  \n",
       "6             208019    b  Forward charges                  61.3  "
      ]
     },
     "execution_count": 19,
     "metadata": {},
     "output_type": "execute_result"
    }
   ],
   "source": [
    "print(\"Random Samples from Invoice Table:\\n\")\n",
    "invoice.sample(5)"
   ]
  },
  {
   "cell_type": "code",
   "execution_count": 20,
   "metadata": {},
   "outputs": [
    {
     "name": "stdout",
     "output_type": "stream",
     "text": [
      "Random Sample from Order Table:\n",
      "\n"
     ]
    },
    {
     "data": {
      "text/html": [
       "<div>\n",
       "<style scoped>\n",
       "    .dataframe tbody tr th:only-of-type {\n",
       "        vertical-align: middle;\n",
       "    }\n",
       "\n",
       "    .dataframe tbody tr th {\n",
       "        vertical-align: top;\n",
       "    }\n",
       "\n",
       "    .dataframe thead th {\n",
       "        text-align: right;\n",
       "    }\n",
       "</style>\n",
       "<table border=\"1\" class=\"dataframe\">\n",
       "  <thead>\n",
       "    <tr style=\"text-align: right;\">\n",
       "      <th></th>\n",
       "      <th>ExternOrderNo</th>\n",
       "      <th>SKU</th>\n",
       "      <th>Order Qty</th>\n",
       "      <th>Unnamed: 3</th>\n",
       "      <th>Unnamed: 4</th>\n",
       "    </tr>\n",
       "  </thead>\n",
       "  <tbody>\n",
       "    <tr>\n",
       "      <th>111</th>\n",
       "      <td>2001811306</td>\n",
       "      <td>8904223819352</td>\n",
       "      <td>1.0</td>\n",
       "      <td>NaN</td>\n",
       "      <td>NaN</td>\n",
       "    </tr>\n",
       "    <tr>\n",
       "      <th>61</th>\n",
       "      <td>2001816996</td>\n",
       "      <td>8904223818942</td>\n",
       "      <td>1.0</td>\n",
       "      <td>NaN</td>\n",
       "      <td>NaN</td>\n",
       "    </tr>\n",
       "    <tr>\n",
       "      <th>175</th>\n",
       "      <td>2001809794</td>\n",
       "      <td>8904223816214</td>\n",
       "      <td>1.0</td>\n",
       "      <td>NaN</td>\n",
       "      <td>NaN</td>\n",
       "    </tr>\n",
       "    <tr>\n",
       "      <th>280</th>\n",
       "      <td>2001807362</td>\n",
       "      <td>8904223819291</td>\n",
       "      <td>2.0</td>\n",
       "      <td>NaN</td>\n",
       "      <td>NaN</td>\n",
       "    </tr>\n",
       "    <tr>\n",
       "      <th>340</th>\n",
       "      <td>2001806652</td>\n",
       "      <td>8904223818706</td>\n",
       "      <td>1.0</td>\n",
       "      <td>NaN</td>\n",
       "      <td>NaN</td>\n",
       "    </tr>\n",
       "  </tbody>\n",
       "</table>\n",
       "</div>"
      ],
      "text/plain": [
       "     ExternOrderNo            SKU  Order Qty  Unnamed: 3  Unnamed: 4\n",
       "111     2001811306  8904223819352        1.0         NaN         NaN\n",
       "61      2001816996  8904223818942        1.0         NaN         NaN\n",
       "175     2001809794  8904223816214        1.0         NaN         NaN\n",
       "280     2001807362  8904223819291        2.0         NaN         NaN\n",
       "340     2001806652  8904223818706        1.0         NaN         NaN"
      ]
     },
     "execution_count": 20,
     "metadata": {},
     "output_type": "execute_result"
    }
   ],
   "source": [
    "print('Random Sample from Order Table:\\n')\n",
    "order.sample(5)"
   ]
  },
  {
   "cell_type": "code",
   "execution_count": 21,
   "metadata": {},
   "outputs": [
    {
     "name": "stdout",
     "output_type": "stream",
     "text": [
      "Random Sample from Pincode Table:\n",
      "\n"
     ]
    },
    {
     "data": {
      "text/html": [
       "<div>\n",
       "<style scoped>\n",
       "    .dataframe tbody tr th:only-of-type {\n",
       "        vertical-align: middle;\n",
       "    }\n",
       "\n",
       "    .dataframe tbody tr th {\n",
       "        vertical-align: top;\n",
       "    }\n",
       "\n",
       "    .dataframe thead th {\n",
       "        text-align: right;\n",
       "    }\n",
       "</style>\n",
       "<table border=\"1\" class=\"dataframe\">\n",
       "  <thead>\n",
       "    <tr style=\"text-align: right;\">\n",
       "      <th></th>\n",
       "      <th>Warehouse Pincode</th>\n",
       "      <th>Customer Pincode</th>\n",
       "      <th>Zone</th>\n",
       "      <th>Unnamed: 3</th>\n",
       "      <th>Unnamed: 4</th>\n",
       "    </tr>\n",
       "  </thead>\n",
       "  <tbody>\n",
       "    <tr>\n",
       "      <th>100</th>\n",
       "      <td>121003</td>\n",
       "      <td>335803</td>\n",
       "      <td>b</td>\n",
       "      <td>NaN</td>\n",
       "      <td>NaN</td>\n",
       "    </tr>\n",
       "    <tr>\n",
       "      <th>91</th>\n",
       "      <td>121003</td>\n",
       "      <td>322201</td>\n",
       "      <td>b</td>\n",
       "      <td>NaN</td>\n",
       "      <td>NaN</td>\n",
       "    </tr>\n",
       "    <tr>\n",
       "      <th>0</th>\n",
       "      <td>121003</td>\n",
       "      <td>507101</td>\n",
       "      <td>d</td>\n",
       "      <td>NaN</td>\n",
       "      <td>NaN</td>\n",
       "    </tr>\n",
       "    <tr>\n",
       "      <th>64</th>\n",
       "      <td>121003</td>\n",
       "      <td>334004</td>\n",
       "      <td>b</td>\n",
       "      <td>NaN</td>\n",
       "      <td>NaN</td>\n",
       "    </tr>\n",
       "    <tr>\n",
       "      <th>4</th>\n",
       "      <td>121003</td>\n",
       "      <td>515591</td>\n",
       "      <td>d</td>\n",
       "      <td>NaN</td>\n",
       "      <td>NaN</td>\n",
       "    </tr>\n",
       "  </tbody>\n",
       "</table>\n",
       "</div>"
      ],
      "text/plain": [
       "     Warehouse Pincode  Customer Pincode Zone  Unnamed: 3  Unnamed: 4\n",
       "100             121003            335803    b         NaN         NaN\n",
       "91              121003            322201    b         NaN         NaN\n",
       "0               121003            507101    d         NaN         NaN\n",
       "64              121003            334004    b         NaN         NaN\n",
       "4               121003            515591    d         NaN         NaN"
      ]
     },
     "execution_count": 21,
     "metadata": {},
     "output_type": "execute_result"
    }
   ],
   "source": [
    "print('Random Sample from Pincode Table:\\n')\n",
    "pincode.sample(5)"
   ]
  },
  {
   "cell_type": "code",
   "execution_count": 22,
   "metadata": {},
   "outputs": [
    {
     "name": "stdout",
     "output_type": "stream",
     "text": [
      "Random Sample from SKU Table:\n",
      "\n"
     ]
    },
    {
     "data": {
      "text/html": [
       "<div>\n",
       "<style scoped>\n",
       "    .dataframe tbody tr th:only-of-type {\n",
       "        vertical-align: middle;\n",
       "    }\n",
       "\n",
       "    .dataframe tbody tr th {\n",
       "        vertical-align: top;\n",
       "    }\n",
       "\n",
       "    .dataframe thead th {\n",
       "        text-align: right;\n",
       "    }\n",
       "</style>\n",
       "<table border=\"1\" class=\"dataframe\">\n",
       "  <thead>\n",
       "    <tr style=\"text-align: right;\">\n",
       "      <th></th>\n",
       "      <th>SKU</th>\n",
       "      <th>Weight (g)</th>\n",
       "      <th>Unnamed: 2</th>\n",
       "      <th>Unnamed: 3</th>\n",
       "      <th>Unnamed: 4</th>\n",
       "    </tr>\n",
       "  </thead>\n",
       "  <tbody>\n",
       "    <tr>\n",
       "      <th>31</th>\n",
       "      <td>8904223818980</td>\n",
       "      <td>110</td>\n",
       "      <td>NaN</td>\n",
       "      <td>NaN</td>\n",
       "      <td>NaN</td>\n",
       "    </tr>\n",
       "    <tr>\n",
       "      <th>60</th>\n",
       "      <td>8904223819338</td>\n",
       "      <td>600</td>\n",
       "      <td>NaN</td>\n",
       "      <td>NaN</td>\n",
       "      <td>NaN</td>\n",
       "    </tr>\n",
       "    <tr>\n",
       "      <th>43</th>\n",
       "      <td>8904223819345</td>\n",
       "      <td>165</td>\n",
       "      <td>NaN</td>\n",
       "      <td>NaN</td>\n",
       "      <td>NaN</td>\n",
       "    </tr>\n",
       "    <tr>\n",
       "      <th>27</th>\n",
       "      <td>8904223818997</td>\n",
       "      <td>490</td>\n",
       "      <td>NaN</td>\n",
       "      <td>NaN</td>\n",
       "      <td>NaN</td>\n",
       "    </tr>\n",
       "    <tr>\n",
       "      <th>35</th>\n",
       "      <td>8904223819116</td>\n",
       "      <td>30</td>\n",
       "      <td>NaN</td>\n",
       "      <td>NaN</td>\n",
       "      <td>NaN</td>\n",
       "    </tr>\n",
       "  </tbody>\n",
       "</table>\n",
       "</div>"
      ],
      "text/plain": [
       "              SKU  Weight (g)  Unnamed: 2  Unnamed: 3  Unnamed: 4\n",
       "31  8904223818980         110         NaN         NaN         NaN\n",
       "60  8904223819338         600         NaN         NaN         NaN\n",
       "43  8904223819345         165         NaN         NaN         NaN\n",
       "27  8904223818997         490         NaN         NaN         NaN\n",
       "35  8904223819116          30         NaN         NaN         NaN"
      ]
     },
     "execution_count": 22,
     "metadata": {},
     "output_type": "execute_result"
    }
   ],
   "source": [
    "print('Random Sample from SKU Table:\\n')\n",
    "sku.sample(5)"
   ]
  },
  {
   "cell_type": "code",
   "execution_count": 23,
   "metadata": {},
   "outputs": [],
   "source": [
    "# I have noticed that in order , pincode and sku table Unnamed Columns are there having NaN values only...Lets explore it futher using info()."
   ]
  },
  {
   "cell_type": "markdown",
   "metadata": {},
   "source": [
    "<hr style=\"border-top: 3px solid blue;\">"
   ]
  },
  {
   "cell_type": "markdown",
   "metadata": {},
   "source": [
    "<h6 style=\"font-family: 'Arial'; font-size: 20px; font-style: italic; color:aqua\">\n",
    "Examine Datatypes and Information about features</h6>"
   ]
  },
  {
   "cell_type": "code",
   "execution_count": 24,
   "metadata": {},
   "outputs": [
    {
     "name": "stdout",
     "output_type": "stream",
     "text": [
      "Information about the Courier Table is:\n",
      "<class 'pandas.core.frame.DataFrame'>\n",
      "RangeIndex: 1 entries, 0 to 0\n",
      "Data columns (total 20 columns):\n",
      " #   Column            Non-Null Count  Dtype  \n",
      "---  ------            --------------  -----  \n",
      " 0   fwd_a_fixed       1 non-null      float64\n",
      " 1   fwd_a_additional  1 non-null      float64\n",
      " 2   fwd_b_fixed       1 non-null      int64  \n",
      " 3   fwd_b_additional  1 non-null      float64\n",
      " 4   fwd_c_fixed       1 non-null      float64\n",
      " 5   fwd_c_additional  1 non-null      float64\n",
      " 6   fwd_d_fixed       1 non-null      float64\n",
      " 7   fwd_d_additional  1 non-null      float64\n",
      " 8   fwd_e_fixed       1 non-null      float64\n",
      " 9   fwd_e_additional  1 non-null      float64\n",
      " 10  rto_a_fixed       1 non-null      float64\n",
      " 11  rto_a_additional  1 non-null      float64\n",
      " 12  rto_b_fixed       1 non-null      float64\n",
      " 13  rto_b_additional  1 non-null      float64\n",
      " 14  rto_c_fixed       1 non-null      float64\n",
      " 15  rto_c_additional  1 non-null      float64\n",
      " 16  rto_d_fixed       1 non-null      float64\n",
      " 17  rto_d_additional  1 non-null      float64\n",
      " 18  rto_e_fixed       1 non-null      float64\n",
      " 19  rto_e_additional  1 non-null      float64\n",
      "dtypes: float64(19), int64(1)\n",
      "memory usage: 288.0 bytes\n"
     ]
    }
   ],
   "source": [
    "print(\"Information about the Courier Table is:\")\n",
    "courier.info()"
   ]
  },
  {
   "cell_type": "markdown",
   "metadata": {},
   "source": [
    "<h7 style=\"color:gold;font-style:italic; font-family:Georgia\">Observation:</h7>\n",
    "\n",
    "- The table has a single row of data.\n",
    "- All 20 columns are non-null.\n",
    "- 19 columns are of type `float64`, representing precise cost data.\n",
    "- Only one column, `fwd_b_fixed`, is of type `int64`.\n",
    "- The data represents fixed and additional costs for forward (fwd) and return-to-origin (rto) services across categories A to E.\n"
   ]
  },
  {
   "cell_type": "markdown",
   "metadata": {},
   "source": [
    "-------------------"
   ]
  },
  {
   "cell_type": "code",
   "execution_count": 25,
   "metadata": {},
   "outputs": [
    {
     "name": "stdout",
     "output_type": "stream",
     "text": [
      "Information about the Invoice Table is:\n",
      "<class 'pandas.core.frame.DataFrame'>\n",
      "RangeIndex: 124 entries, 0 to 123\n",
      "Data columns (total 8 columns):\n",
      " #   Column                Non-Null Count  Dtype  \n",
      "---  ------                --------------  -----  \n",
      " 0   AWB Code              124 non-null    int64  \n",
      " 1   Order ID              124 non-null    int64  \n",
      " 2   Charged Weight        124 non-null    float64\n",
      " 3   Warehouse Pincode     124 non-null    int64  \n",
      " 4   Customer Pincode      124 non-null    int64  \n",
      " 5   Zone                  124 non-null    object \n",
      " 6   Type of Shipment      124 non-null    object \n",
      " 7   Billing Amount (Rs.)  124 non-null    float64\n",
      "dtypes: float64(2), int64(4), object(2)\n",
      "memory usage: 7.9+ KB\n"
     ]
    }
   ],
   "source": [
    "print(\"Information about the Invoice Table is:\")\n",
    "invoice.info()"
   ]
  },
  {
   "cell_type": "markdown",
   "metadata": {},
   "source": [
    "<h7 style=\"color:gold;font-style:italic; font-family:Georgia\">Observation:</h7>\n",
    "\n",
    "- The table contains 124 entries with 8 columns.\n",
    "- All columns have non-null values, meaning there are no missing data points.\n",
    "- There are 4 columns with integer data types (`AWB Code`, `Order ID`, `Warehouse Pincode`, `Customer Pincode`).\n",
    "- Two columns are of type `float64` (`Charged Weight` and `Billing Amount (Rs.)`), representing numeric values.\n",
    "- The `Zone` and `Type of Shipment` columns are categorical data stored as objects.\n",
    "- The table likely tracks shipping invoices, including details like AWB codes, shipment zones, and billing amounts."
   ]
  },
  {
   "cell_type": "markdown",
   "metadata": {},
   "source": [
    "---------------"
   ]
  },
  {
   "cell_type": "code",
   "execution_count": 26,
   "metadata": {},
   "outputs": [
    {
     "name": "stdout",
     "output_type": "stream",
     "text": [
      "Information about the Order Table is:\n",
      "<class 'pandas.core.frame.DataFrame'>\n",
      "RangeIndex: 400 entries, 0 to 399\n",
      "Data columns (total 5 columns):\n",
      " #   Column         Non-Null Count  Dtype  \n",
      "---  ------         --------------  -----  \n",
      " 0   ExternOrderNo  400 non-null    int64  \n",
      " 1   SKU            400 non-null    object \n",
      " 2   Order Qty      400 non-null    float64\n",
      " 3   Unnamed: 3     0 non-null      float64\n",
      " 4   Unnamed: 4     0 non-null      float64\n",
      "dtypes: float64(3), int64(1), object(1)\n",
      "memory usage: 15.8+ KB\n"
     ]
    }
   ],
   "source": [
    "print(\"Information about the Order Table is:\")\n",
    "order.info()"
   ]
  },
  {
   "cell_type": "markdown",
   "metadata": {},
   "source": [
    "<h7 style=\"color:gold;font-style:italic; font-family:Georgia\">Observation:</h7>\n",
    "\n",
    "- The table contains 400 entries.\n",
    "- Columns `ExternOrderNo`, `SKU`, and `Order Qty` have complete data with no missing values.\n",
    "- Two columns, `Unnamed: 3` and `Unnamed: 4`, contain entirely null values.\n",
    "- `ExternOrderNo` is an integer, `SKU` is categorical, and `Order Qty` is a float.\n",
    "- The unnecessary `Unnamed` columns should be removed for better data quality."
   ]
  },
  {
   "cell_type": "code",
   "execution_count": 27,
   "metadata": {},
   "outputs": [],
   "source": [
    "# Lets Remove the Unnamed: 3 and Unnamed: 4 Columns.\n",
    "\n",
    "order.drop(columns=['Unnamed: 3','Unnamed: 4'],inplace=True)  # inplace =True makesures that , columns will get dropped from the original table mentioned."
   ]
  },
  {
   "cell_type": "code",
   "execution_count": 28,
   "metadata": {},
   "outputs": [
    {
     "name": "stdout",
     "output_type": "stream",
     "text": [
      "<class 'pandas.core.frame.DataFrame'>\n",
      "RangeIndex: 400 entries, 0 to 399\n",
      "Data columns (total 3 columns):\n",
      " #   Column         Non-Null Count  Dtype  \n",
      "---  ------         --------------  -----  \n",
      " 0   ExternOrderNo  400 non-null    int64  \n",
      " 1   SKU            400 non-null    object \n",
      " 2   Order Qty      400 non-null    float64\n",
      "dtypes: float64(1), int64(1), object(1)\n",
      "memory usage: 9.5+ KB\n"
     ]
    }
   ],
   "source": [
    "order.info()  # No Unnecessary Unnamed columns are there."
   ]
  },
  {
   "cell_type": "markdown",
   "metadata": {},
   "source": [
    "-------------"
   ]
  },
  {
   "cell_type": "code",
   "execution_count": 29,
   "metadata": {},
   "outputs": [
    {
     "name": "stdout",
     "output_type": "stream",
     "text": [
      "Information about the Pincode Table:\n",
      "\n",
      "<class 'pandas.core.frame.DataFrame'>\n",
      "RangeIndex: 124 entries, 0 to 123\n",
      "Data columns (total 5 columns):\n",
      " #   Column             Non-Null Count  Dtype  \n",
      "---  ------             --------------  -----  \n",
      " 0   Warehouse Pincode  124 non-null    int64  \n",
      " 1   Customer Pincode   124 non-null    int64  \n",
      " 2   Zone               124 non-null    object \n",
      " 3   Unnamed: 3         0 non-null      float64\n",
      " 4   Unnamed: 4         0 non-null      float64\n",
      "dtypes: float64(2), int64(2), object(1)\n",
      "memory usage: 5.0+ KB\n"
     ]
    }
   ],
   "source": [
    "print('Information about the Pincode Table:\\n')\n",
    "pincode.info()"
   ]
  },
  {
   "cell_type": "markdown",
   "metadata": {},
   "source": [
    "<h7 style=\"color:gold;font-style:italic; font-family:Georgia\">Observation:</h7>\n",
    "\n",
    "- The table contains 124 entries with complete data for `Warehouse Pincode`, `Customer Pincode`, and `Zone`.\n",
    "- Both `Warehouse Pincode` and `Customer Pincode` columns have integer data types.\n",
    "- The `Zone` column is categorical and contains non-null values.\n",
    "- Two columns, `Unnamed: 3` and `Unnamed: 4`, are entirely null and do not provide any useful information.\n",
    "- The unnecessary `Unnamed` columns should be removed to enhance data clarity."
   ]
  },
  {
   "cell_type": "code",
   "execution_count": 30,
   "metadata": {},
   "outputs": [],
   "source": [
    "# Lets Remove the Unnamed: 3 and Unnamed: 4 Columns.\n",
    "\n",
    "pincode.drop(columns=['Unnamed: 3','Unnamed: 4'],inplace=True) "
   ]
  },
  {
   "cell_type": "code",
   "execution_count": 31,
   "metadata": {},
   "outputs": [
    {
     "name": "stdout",
     "output_type": "stream",
     "text": [
      "<class 'pandas.core.frame.DataFrame'>\n",
      "RangeIndex: 124 entries, 0 to 123\n",
      "Data columns (total 3 columns):\n",
      " #   Column             Non-Null Count  Dtype \n",
      "---  ------             --------------  ----- \n",
      " 0   Warehouse Pincode  124 non-null    int64 \n",
      " 1   Customer Pincode   124 non-null    int64 \n",
      " 2   Zone               124 non-null    object\n",
      "dtypes: int64(2), object(1)\n",
      "memory usage: 3.0+ KB\n"
     ]
    }
   ],
   "source": [
    "pincode.info()   # No Unnecessary Unnamed columns are there."
   ]
  },
  {
   "cell_type": "markdown",
   "metadata": {},
   "source": [
    "------------------"
   ]
  },
  {
   "cell_type": "code",
   "execution_count": 32,
   "metadata": {},
   "outputs": [
    {
     "name": "stdout",
     "output_type": "stream",
     "text": [
      "Information about the SKU Table:\n",
      "\n",
      "<class 'pandas.core.frame.DataFrame'>\n",
      "RangeIndex: 66 entries, 0 to 65\n",
      "Data columns (total 5 columns):\n",
      " #   Column      Non-Null Count  Dtype  \n",
      "---  ------      --------------  -----  \n",
      " 0   SKU         66 non-null     object \n",
      " 1   Weight (g)  66 non-null     int64  \n",
      " 2   Unnamed: 2  0 non-null      float64\n",
      " 3   Unnamed: 3  0 non-null      float64\n",
      " 4   Unnamed: 4  0 non-null      float64\n",
      "dtypes: float64(3), int64(1), object(1)\n",
      "memory usage: 2.7+ KB\n"
     ]
    }
   ],
   "source": [
    "print(\"Information about the SKU Table:\\n\")\n",
    "sku.info()\n"
   ]
  },
  {
   "cell_type": "markdown",
   "metadata": {},
   "source": [
    "<h7 style=\"color:gold;font-style:italic; font-family:Georgia\">Observation:</h7>\n",
    "\n",
    "- The `SKU Table` contains 66 entries with complete data for the `SKU` and `Weight (g)` columns.\n",
    "- The `SKU` column is categorical, and `Weight (g)` is an integer representing product weight.\n",
    "- Three columns (`Unnamed: 2`, `Unnamed: 3`, `Unnamed: 4`) are entirely null and do not add value.\n",
    "- The unnecessary `Unnamed` columns should be removed to improve data quality."
   ]
  },
  {
   "cell_type": "code",
   "execution_count": 33,
   "metadata": {},
   "outputs": [],
   "source": [
    "# Lets Remove the Unnamed: 2,Unnamed: 3 and Unnamed: 4 Columns.\n",
    "\n",
    "sku.drop(columns=['Unnamed: 2','Unnamed: 3','Unnamed: 4'],inplace=True) "
   ]
  },
  {
   "cell_type": "code",
   "execution_count": 34,
   "metadata": {},
   "outputs": [
    {
     "name": "stdout",
     "output_type": "stream",
     "text": [
      "Information about the SKU Table:\n",
      "\n",
      "<class 'pandas.core.frame.DataFrame'>\n",
      "RangeIndex: 66 entries, 0 to 65\n",
      "Data columns (total 2 columns):\n",
      " #   Column      Non-Null Count  Dtype \n",
      "---  ------      --------------  ----- \n",
      " 0   SKU         66 non-null     object\n",
      " 1   Weight (g)  66 non-null     int64 \n",
      "dtypes: int64(1), object(1)\n",
      "memory usage: 1.2+ KB\n"
     ]
    }
   ],
   "source": [
    "print(\"Information about the SKU Table:\\n\")\n",
    "sku.info()"
   ]
  },
  {
   "cell_type": "markdown",
   "metadata": {},
   "source": [
    "---------------------------------------"
   ]
  },
  {
   "cell_type": "markdown",
   "metadata": {},
   "source": [
    "<h6 style=\"font-family: 'Arial'; font-size: 20px; font-style: italic; color:aqua\">\n",
    "Checking for Null Values if Present</h6>"
   ]
  },
  {
   "cell_type": "code",
   "execution_count": 35,
   "metadata": {},
   "outputs": [
    {
     "name": "stdout",
     "output_type": "stream",
     "text": [
      "Total Number of Null Values present in courier table: 0\n",
      "\n",
      "Checking for Null Values in each column of courier table:\n"
     ]
    },
    {
     "data": {
      "text/plain": [
       "fwd_a_fixed         0\n",
       "fwd_a_additional    0\n",
       "fwd_b_fixed         0\n",
       "fwd_b_additional    0\n",
       "fwd_c_fixed         0\n",
       "fwd_c_additional    0\n",
       "fwd_d_fixed         0\n",
       "fwd_d_additional    0\n",
       "fwd_e_fixed         0\n",
       "fwd_e_additional    0\n",
       "rto_a_fixed         0\n",
       "rto_a_additional    0\n",
       "rto_b_fixed         0\n",
       "rto_b_additional    0\n",
       "rto_c_fixed         0\n",
       "rto_c_additional    0\n",
       "rto_d_fixed         0\n",
       "rto_d_additional    0\n",
       "rto_e_fixed         0\n",
       "rto_e_additional    0\n",
       "dtype: int64"
      ]
     },
     "execution_count": 35,
     "metadata": {},
     "output_type": "execute_result"
    }
   ],
   "source": [
    "# Checking for Null Values in Courier Table if any..\n",
    "print(\"Total Number of Null Values present in courier table:\",courier.isnull().sum().sum())\n",
    "print(\"\\nChecking for Null Values in each column of courier table:\")\n",
    "courier.isnull().sum()"
   ]
  },
  {
   "cell_type": "code",
   "execution_count": 36,
   "metadata": {},
   "outputs": [
    {
     "name": "stdout",
     "output_type": "stream",
     "text": [
      "Total Number of Null Values present in invoice table: 0\n",
      "\n",
      "Checking for Null Values in each column of invoice table:\n"
     ]
    },
    {
     "data": {
      "text/plain": [
       "AWB Code                0\n",
       "Order ID                0\n",
       "Charged Weight          0\n",
       "Warehouse Pincode       0\n",
       "Customer Pincode        0\n",
       "Zone                    0\n",
       "Type of Shipment        0\n",
       "Billing Amount (Rs.)    0\n",
       "dtype: int64"
      ]
     },
     "execution_count": 36,
     "metadata": {},
     "output_type": "execute_result"
    }
   ],
   "source": [
    "# Checking for Null Values in Invoice Table if any..\n",
    "print(\"Total Number of Null Values present in invoice table:\",invoice.isnull().sum().sum())\n",
    "print(\"\\nChecking for Null Values in each column of invoice table:\")\n",
    "invoice.isnull().sum()"
   ]
  },
  {
   "cell_type": "code",
   "execution_count": 37,
   "metadata": {},
   "outputs": [
    {
     "name": "stdout",
     "output_type": "stream",
     "text": [
      "Total Number of Null Values present in order table: 0\n",
      "\n",
      "Checking for Null Values in each column of order table:\n"
     ]
    },
    {
     "data": {
      "text/plain": [
       "ExternOrderNo    0\n",
       "SKU              0\n",
       "Order Qty        0\n",
       "dtype: int64"
      ]
     },
     "execution_count": 37,
     "metadata": {},
     "output_type": "execute_result"
    }
   ],
   "source": [
    "# Checking for Null Values in Order Table if any..\n",
    "print(\"Total Number of Null Values present in order table:\",order.isnull().sum().sum())\n",
    "print(\"\\nChecking for Null Values in each column of order table:\")\n",
    "order.isnull().sum()"
   ]
  },
  {
   "cell_type": "code",
   "execution_count": 38,
   "metadata": {},
   "outputs": [
    {
     "name": "stdout",
     "output_type": "stream",
     "text": [
      "Total Number of Null Values present in pincode table: 0\n",
      "\n",
      "Checking for Null Values in each column of pincode table:\n"
     ]
    },
    {
     "data": {
      "text/plain": [
       "Warehouse Pincode    0\n",
       "Customer Pincode     0\n",
       "Zone                 0\n",
       "dtype: int64"
      ]
     },
     "execution_count": 38,
     "metadata": {},
     "output_type": "execute_result"
    }
   ],
   "source": [
    "# Checking for Null Values in Pincode Table if any..\n",
    "print(\"Total Number of Null Values present in pincode table:\",pincode.isnull().sum().sum())\n",
    "print(\"\\nChecking for Null Values in each column of pincode table:\")\n",
    "pincode.isnull().sum()"
   ]
  },
  {
   "cell_type": "code",
   "execution_count": 39,
   "metadata": {},
   "outputs": [
    {
     "name": "stdout",
     "output_type": "stream",
     "text": [
      "Total Number of Null Values present in sku table: 0\n",
      "\n",
      "Checking for Null Values in each column of sku table:\n"
     ]
    },
    {
     "data": {
      "text/plain": [
       "SKU           0\n",
       "Weight (g)    0\n",
       "dtype: int64"
      ]
     },
     "execution_count": 39,
     "metadata": {},
     "output_type": "execute_result"
    }
   ],
   "source": [
    "# Checking for Null Values in SKU Table if any..\n",
    "print(\"Total Number of Null Values present in sku table:\",sku.isnull().sum().sum())\n",
    "print(\"\\nChecking for Null Values in each column of sku table:\")\n",
    "sku.isnull().sum()"
   ]
  },
  {
   "cell_type": "markdown",
   "metadata": {},
   "source": [
    "<h7 style=\"color:gold;font-style:italic; font-family:Georgia\">Observation:</h7>\n",
    "\n",
    "- courier,invoice,order,pincode and sku table has no null values."
   ]
  },
  {
   "cell_type": "markdown",
   "metadata": {},
   "source": [
    "-----------------------"
   ]
  },
  {
   "cell_type": "markdown",
   "metadata": {},
   "source": [
    "<h6 style=\"font-family: 'Arial'; font-size: 20px; font-style: italic; color:aqua\">\n",
    "Checking for Duplicate Values if Present and Handle it</h6>"
   ]
  },
  {
   "cell_type": "code",
   "execution_count": 40,
   "metadata": {},
   "outputs": [
    {
     "name": "stdout",
     "output_type": "stream",
     "text": [
      "Total Number of Duplicate Values present in courier table: 0\n"
     ]
    }
   ],
   "source": [
    "# Checking for Duplicate Values in courier Table if any..\n",
    "print(\"Total Number of Duplicate Values present in courier table:\",courier.duplicated().sum())"
   ]
  },
  {
   "cell_type": "code",
   "execution_count": 41,
   "metadata": {},
   "outputs": [
    {
     "name": "stdout",
     "output_type": "stream",
     "text": [
      "Total Number of Duplicate Values present in invoice table: 0\n"
     ]
    }
   ],
   "source": [
    "# Checking for Duplicate Values in invoice Table if any..\n",
    "print(\"Total Number of Duplicate Values present in invoice table:\",invoice.duplicated().sum())"
   ]
  },
  {
   "cell_type": "code",
   "execution_count": 42,
   "metadata": {},
   "outputs": [
    {
     "name": "stdout",
     "output_type": "stream",
     "text": [
      "Total Number of Duplicate Values present in order table: 2\n"
     ]
    }
   ],
   "source": [
    "# Checking for Duplicate Values in order Table if any..\n",
    "print(\"Total Number of Duplicate Values present in order table:\",order.duplicated().sum())"
   ]
  },
  {
   "cell_type": "code",
   "execution_count": 43,
   "metadata": {},
   "outputs": [
    {
     "name": "stdout",
     "output_type": "stream",
     "text": [
      "Total Number of Duplicate Values present in pincode table: 16\n"
     ]
    }
   ],
   "source": [
    "# Checking for Duplicate Values in pincode Table if any..\n",
    "print(\"Total Number of Duplicate Values present in pincode table:\",pincode.duplicated().sum())"
   ]
  },
  {
   "cell_type": "code",
   "execution_count": 44,
   "metadata": {},
   "outputs": [
    {
     "name": "stdout",
     "output_type": "stream",
     "text": [
      "Total Number of Duplicate Values present in sku table: 1\n"
     ]
    }
   ],
   "source": [
    "# Checking for Duplicate Values in sku Table if any..\n",
    "print(\"Total Number of Duplicate Values present in sku table:\",sku.duplicated().sum())"
   ]
  },
  {
   "cell_type": "code",
   "execution_count": 45,
   "metadata": {},
   "outputs": [
    {
     "name": "stdout",
     "output_type": "stream",
     "text": [
      "Total Number of Duplicate Values present in order table: 0\n",
      "Total Number of Duplicate Values present in pincode table: 0\n",
      "Total Number of Duplicate Values present in sku table: 0\n"
     ]
    }
   ],
   "source": [
    "# Lets handle the duplicate values:\n",
    "order.drop_duplicates(inplace=True)\n",
    "pincode.drop_duplicates(subset='Customer Pincode',inplace=True)\n",
    "sku.drop_duplicates(inplace=True)\n",
    "\n",
    "# Checking for Duplicate Values in  Table again!!!\n",
    "print(\"Total Number of Duplicate Values present in order table:\",order.duplicated().sum())\n",
    "print(\"Total Number of Duplicate Values present in pincode table:\",pincode.duplicated().sum())\n",
    "print(\"Total Number of Duplicate Values present in sku table:\",sku.duplicated().sum())\n"
   ]
  },
  {
   "cell_type": "code",
   "execution_count": 46,
   "metadata": {},
   "outputs": [
    {
     "name": "stdout",
     "output_type": "stream",
     "text": [
      "Number of records in courier table 1\n",
      "Number of features in courier table 20\n",
      "----------------------------------------------------------------------------------------------------------------------------------\n",
      "Number of records in invoice table 124\n",
      "Number of features in invoice table 8\n",
      "----------------------------------------------------------------------------------------------------------------------------------\n",
      "Number of records in order table 398\n",
      "Number of features in order table 3\n",
      "----------------------------------------------------------------------------------------------------------------------------------\n",
      "Number of records in pincode table 108\n",
      "Number of features in pincode table 3\n",
      "----------------------------------------------------------------------------------------------------------------------------------\n",
      "Number of records in sku(stock keeping unit) table 65\n",
      "Number of features in sku(stock keeping unit) table 2\n"
     ]
    }
   ],
   "source": [
    "print(f\"Number of records in courier table {courier.shape[0]}\")\n",
    "print(f\"Number of features in courier table {courier.shape[1]}\")\n",
    "print('-'*130)\n",
    "\n",
    "print(f\"Number of records in invoice table {invoice.shape[0]}\")\n",
    "print(f\"Number of features in invoice table {invoice.shape[1]}\")\n",
    "print('-'*130)\n",
    "\n",
    "print(f\"Number of records in order table {order.shape[0]}\")\n",
    "print(f\"Number of features in order table {order.shape[1]}\")\n",
    "print('-'*130)\n",
    "\n",
    "print(f\"Number of records in pincode table {pincode.shape[0]}\")\n",
    "print(f\"Number of features in pincode table {pincode.shape[1]}\")\n",
    "print('-'*130)\n",
    "\n",
    "print(f\"Number of records in sku(stock keeping unit) table {sku.shape[0]}\")\n",
    "print(f\"Number of features in sku(stock keeping unit) table {sku.shape[1]}\")"
   ]
  },
  {
   "cell_type": "markdown",
   "metadata": {},
   "source": [
    "<h7 style=\"color:gold;font-style:italic; font-family:Georgia\">Observation:</h7>\n",
    "\n",
    "- The order, pincode, and sku tables had a few duplicate values, which were successfully addressed."
   ]
  },
  {
   "cell_type": "markdown",
   "metadata": {},
   "source": [
    "-----------"
   ]
  },
  {
   "cell_type": "markdown",
   "metadata": {},
   "source": [
    "<h6 style=\"font-family: 'Arial'; font-size: 20px; font-style: italic; color:aqua\">\n",
    "Checking for Number of Unique Values in Each Tables</h6>"
   ]
  },
  {
   "cell_type": "code",
   "execution_count": 47,
   "metadata": {},
   "outputs": [
    {
     "name": "stdout",
     "output_type": "stream",
     "text": [
      "Number of Unique Values present in each column of courier table:\n"
     ]
    },
    {
     "data": {
      "text/plain": [
       "fwd_a_fixed         1\n",
       "fwd_a_additional    1\n",
       "fwd_b_fixed         1\n",
       "fwd_b_additional    1\n",
       "fwd_c_fixed         1\n",
       "fwd_c_additional    1\n",
       "fwd_d_fixed         1\n",
       "fwd_d_additional    1\n",
       "fwd_e_fixed         1\n",
       "fwd_e_additional    1\n",
       "rto_a_fixed         1\n",
       "rto_a_additional    1\n",
       "rto_b_fixed         1\n",
       "rto_b_additional    1\n",
       "rto_c_fixed         1\n",
       "rto_c_additional    1\n",
       "rto_d_fixed         1\n",
       "rto_d_additional    1\n",
       "rto_e_fixed         1\n",
       "rto_e_additional    1\n",
       "dtype: int64"
      ]
     },
     "execution_count": 47,
     "metadata": {},
     "output_type": "execute_result"
    }
   ],
   "source": [
    "print(f\"Number of Unique Values present in each column of courier table:\")\n",
    "courier.nunique()"
   ]
  },
  {
   "cell_type": "code",
   "execution_count": 48,
   "metadata": {},
   "outputs": [
    {
     "name": "stdout",
     "output_type": "stream",
     "text": [
      "Number of Unique Values present in each column of invoice table:\n"
     ]
    },
    {
     "data": {
      "text/plain": [
       "AWB Code                124\n",
       "Order ID                124\n",
       "Charged Weight           54\n",
       "Warehouse Pincode         1\n",
       "Customer Pincode        108\n",
       "Zone                      3\n",
       "Type of Shipment          2\n",
       "Billing Amount (Rs.)     20\n",
       "dtype: int64"
      ]
     },
     "execution_count": 48,
     "metadata": {},
     "output_type": "execute_result"
    }
   ],
   "source": [
    "print(f\"Number of Unique Values present in each column of invoice table:\")\n",
    "invoice.nunique()"
   ]
  },
  {
   "cell_type": "code",
   "execution_count": 49,
   "metadata": {},
   "outputs": [
    {
     "name": "stdout",
     "output_type": "stream",
     "text": [
      "Number of Unique Values present in each column of order table:\n"
     ]
    },
    {
     "data": {
      "text/plain": [
       "ExternOrderNo    124\n",
       "SKU               65\n",
       "Order Qty          6\n",
       "dtype: int64"
      ]
     },
     "execution_count": 49,
     "metadata": {},
     "output_type": "execute_result"
    }
   ],
   "source": [
    "print(f\"Number of Unique Values present in each column of order table:\")\n",
    "order.nunique()"
   ]
  },
  {
   "cell_type": "code",
   "execution_count": 50,
   "metadata": {},
   "outputs": [
    {
     "name": "stdout",
     "output_type": "stream",
     "text": [
      "Number of Unique Values present in each column of pincode table:\n"
     ]
    },
    {
     "data": {
      "text/plain": [
       "Warehouse Pincode      1\n",
       "Customer Pincode     108\n",
       "Zone                   3\n",
       "dtype: int64"
      ]
     },
     "execution_count": 50,
     "metadata": {},
     "output_type": "execute_result"
    }
   ],
   "source": [
    "print(f\"Number of Unique Values present in each column of pincode table:\")\n",
    "pincode.nunique()"
   ]
  },
  {
   "cell_type": "code",
   "execution_count": 51,
   "metadata": {},
   "outputs": [
    {
     "name": "stdout",
     "output_type": "stream",
     "text": [
      "Number of Unique Values present in each column of sku table:\n"
     ]
    },
    {
     "data": {
      "text/plain": [
       "SKU           65\n",
       "Weight (g)    31\n",
       "dtype: int64"
      ]
     },
     "execution_count": 51,
     "metadata": {},
     "output_type": "execute_result"
    }
   ],
   "source": [
    "print(f\"Number of Unique Values present in each column of sku table:\")\n",
    "sku.nunique()"
   ]
  },
  {
   "cell_type": "markdown",
   "metadata": {},
   "source": [
    "----------------------"
   ]
  },
  {
   "cell_type": "markdown",
   "metadata": {},
   "source": [
    "<h6 style=\"font-family: 'Arial'; font-size: 20px; font-style: italic; color:aqua\">\n",
    "Joining the Tables</h6>"
   ]
  },
  {
   "attachments": {
    "01_ER_image.png": {
     "image/png": "[encoded data removed]"
    }
   },
   "cell_type": "markdown",
   "metadata": {},
   "source": [
    "![01_ER_image.png](attachment:01_ER_image.png)\n",
    "\n",
    "| **Entity** | **Relationship** | **Description** |\n",
    "|------------|------------------|------------------|\n",
    "| INVOICE    | contains         | An invoice can aggregate multiple orders, representing various shipments or items purchased together. |\n",
    "| INVOICE    | has              | An invoice is linked to multiple pincodes, indicating the warehouse and customer delivery locations. |\n",
    "| ORDER      | includes         | An order can consist of multiple SKUs, allowing customers to purchase different products in a single transaction. |\n"
   ]
  },
  {
   "cell_type": "markdown",
   "metadata": {},
   "source": [
    "The Order table is the master table, as it contains the most records (400) and serves as the central dataset for transactional data, with other tables providing supplementary details.\n",
    "\n",
    "-  Merge Order and SKU table ---> on 'SKU'\n",
    "-  Merge Invoice and Pincode table ---> on 'Customer Pincode'\n",
    "-  Then Merge the two Order_SKU and Invoice_Pincode tables to make the \"Data\"."
   ]
  },
  {
   "cell_type": "code",
   "execution_count": 77,
   "metadata": {},
   "outputs": [
    {
     "name": "stdout",
     "output_type": "stream",
     "text": [
      "<class 'pandas.core.frame.DataFrame'>\n",
      "RangeIndex: 398 entries, 0 to 397\n",
      "Data columns (total 4 columns):\n",
      " #   Column         Non-Null Count  Dtype  \n",
      "---  ------         --------------  -----  \n",
      " 0   ExternOrderNo  398 non-null    int64  \n",
      " 1   SKU            398 non-null    object \n",
      " 2   Order Qty      398 non-null    float64\n",
      " 3   Weight (g)     398 non-null    int64  \n",
      "dtypes: float64(1), int64(2), object(1)\n",
      "memory usage: 12.6+ KB\n"
     ]
    }
   ],
   "source": [
    "order_sku = pd.merge(order,sku,on='SKU',how='outer')\n",
    "order_sku.info()"
   ]
  },
  {
   "cell_type": "code",
   "execution_count": 78,
   "metadata": {},
   "outputs": [
    {
     "data": {
      "text/plain": [
       "np.int64(0)"
      ]
     },
     "execution_count": 78,
     "metadata": {},
     "output_type": "execute_result"
    }
   ],
   "source": [
    "order_sku.duplicated().sum()"
   ]
  },
  {
   "cell_type": "code",
   "execution_count": 80,
   "metadata": {},
   "outputs": [
    {
     "name": "stdout",
     "output_type": "stream",
     "text": [
      "<class 'pandas.core.frame.DataFrame'>\n",
      "RangeIndex: 124 entries, 0 to 123\n",
      "Data columns (total 10 columns):\n",
      " #   Column                     Non-Null Count  Dtype  \n",
      "---  ------                     --------------  -----  \n",
      " 0   AWB Code                   124 non-null    int64  \n",
      " 1   Order ID                   124 non-null    int64  \n",
      " 2   Charged Weight             124 non-null    float64\n",
      " 3   Warehouse Pincode_inv      124 non-null    int64  \n",
      " 4   Customer Pincode           124 non-null    int64  \n",
      " 5   Zone_inv                   124 non-null    object \n",
      " 6   Type of Shipment           124 non-null    object \n",
      " 7   Billing Amount (Rs.)       124 non-null    float64\n",
      " 8   Warehouse Pincode_pincode  124 non-null    int64  \n",
      " 9   Zone_pincode               124 non-null    object \n",
      "dtypes: float64(2), int64(5), object(3)\n",
      "memory usage: 9.8+ KB\n"
     ]
    }
   ],
   "source": [
    "invoice_pincode = pd.merge(invoice,pincode, on='Customer Pincode', how='outer', suffixes=('_inv', '_pincode'))\n",
    "invoice_pincode.info()"
   ]
  },
  {
   "cell_type": "code",
   "execution_count": 59,
   "metadata": {},
   "outputs": [
    {
     "data": {
      "text/html": [
       "<div>\n",
       "<style scoped>\n",
       "    .dataframe tbody tr th:only-of-type {\n",
       "        vertical-align: middle;\n",
       "    }\n",
       "\n",
       "    .dataframe tbody tr th {\n",
       "        vertical-align: top;\n",
       "    }\n",
       "\n",
       "    .dataframe thead th {\n",
       "        text-align: right;\n",
       "    }\n",
       "</style>\n",
       "<table border=\"1\" class=\"dataframe\">\n",
       "  <thead>\n",
       "    <tr style=\"text-align: right;\">\n",
       "      <th></th>\n",
       "      <th>AWB Code</th>\n",
       "      <th>Order ID</th>\n",
       "      <th>Charged Weight</th>\n",
       "      <th>Warehouse Pincode_inv</th>\n",
       "      <th>Customer Pincode</th>\n",
       "      <th>Zone_inv</th>\n",
       "      <th>Type of Shipment</th>\n",
       "      <th>Billing Amount (Rs.)</th>\n",
       "      <th>Warehouse Pincode_pincode</th>\n",
       "      <th>Zone_pincode</th>\n",
       "    </tr>\n",
       "  </thead>\n",
       "  <tbody>\n",
       "  </tbody>\n",
       "</table>\n",
       "</div>"
      ],
      "text/plain": [
       "Empty DataFrame\n",
       "Columns: [AWB Code, Order ID, Charged Weight, Warehouse Pincode_inv, Customer Pincode, Zone_inv, Type of Shipment, Billing Amount (Rs.), Warehouse Pincode_pincode, Zone_pincode]\n",
       "Index: []"
      ]
     },
     "execution_count": 59,
     "metadata": {},
     "output_type": "execute_result"
    }
   ],
   "source": [
    "# Filter where 'Warehouse Pincode_inv' is not equal to 'Warehouse Pincode' and 'Zone_inv' is not equal to 'Zone_pincode'\n",
    "filtered_invoice_pincode = invoice_pincode[(invoice_pincode['Warehouse Pincode_inv'] != invoice_pincode['Warehouse Pincode_pincode']) &\n",
    "                                           (invoice_pincode['Zone_inv'] != invoice_pincode['Zone_pincode'])]\n",
    "\n",
    "# Display the filtered data\n",
    "filtered_invoice_pincode\n"
   ]
  },
  {
   "cell_type": "markdown",
   "metadata": {},
   "source": [
    "<h7 style=\"color:gold;font-style:italic; font-family:Georgia\">Observation:</h7>\n",
    "\n",
    "\n",
    "- All rows have matching `Warehouse Pincode` and `Zone` between the `invoice` and `pincode` tables, indicating no mismatches in the dataset.\n"
   ]
  },
  {
   "cell_type": "code",
   "execution_count": 60,
   "metadata": {},
   "outputs": [],
   "source": [
    "# Hence, we can drop one of the `Warehouse Pincode` and one of the `Zone` columns since they are identical, \n",
    "# and rename the remaining columns for clarity.\n",
    "\n",
    "# Drop duplicate columns \n",
    "invoice_pincode.drop(columns=['Warehouse Pincode_pincode', 'Zone_pincode'],inplace=True)\n",
    "\n",
    "# Rename the remaining columns for clarity\n",
    "invoice_pincode = invoice_pincode.rename(columns={\n",
    "    'Warehouse Pincode_inv': 'Warehouse Pincode',\n",
    "    'Zone_inv': 'Zone'\n",
    "})"
   ]
  },
  {
   "cell_type": "code",
   "execution_count": 61,
   "metadata": {},
   "outputs": [
    {
     "name": "stdout",
     "output_type": "stream",
     "text": [
      "<class 'pandas.core.frame.DataFrame'>\n",
      "RangeIndex: 124 entries, 0 to 123\n",
      "Data columns (total 8 columns):\n",
      " #   Column                Non-Null Count  Dtype  \n",
      "---  ------                --------------  -----  \n",
      " 0   AWB Code              124 non-null    int64  \n",
      " 1   Order ID              124 non-null    int64  \n",
      " 2   Charged Weight        124 non-null    float64\n",
      " 3   Warehouse Pincode     124 non-null    int64  \n",
      " 4   Customer Pincode      124 non-null    int64  \n",
      " 5   Zone                  124 non-null    object \n",
      " 6   Type of Shipment      124 non-null    object \n",
      " 7   Billing Amount (Rs.)  124 non-null    float64\n",
      "dtypes: float64(2), int64(4), object(2)\n",
      "memory usage: 7.9+ KB\n"
     ]
    }
   ],
   "source": [
    "invoice_pincode.info()"
   ]
  },
  {
   "cell_type": "code",
   "execution_count": 62,
   "metadata": {},
   "outputs": [
    {
     "name": "stdout",
     "output_type": "stream",
     "text": [
      "<class 'pandas.core.frame.DataFrame'>\n",
      "RangeIndex: 398 entries, 0 to 397\n",
      "Data columns (total 11 columns):\n",
      " #   Column                Non-Null Count  Dtype  \n",
      "---  ------                --------------  -----  \n",
      " 0   Order ID              398 non-null    int64  \n",
      " 1   SKU                   398 non-null    object \n",
      " 2   Order Qty             398 non-null    float64\n",
      " 3   Weight (g)            398 non-null    int64  \n",
      " 4   AWB Code              398 non-null    int64  \n",
      " 5   Charged Weight        398 non-null    float64\n",
      " 6   Warehouse Pincode     398 non-null    int64  \n",
      " 7   Customer Pincode      398 non-null    int64  \n",
      " 8   Zone                  398 non-null    object \n",
      " 9   Type of Shipment      398 non-null    object \n",
      " 10  Billing Amount (Rs.)  398 non-null    float64\n",
      "dtypes: float64(3), int64(5), object(3)\n",
      "memory usage: 34.3+ KB\n"
     ]
    }
   ],
   "source": [
    "order_sku_invoice_pincode = pd.merge(order_sku,invoice_pincode,left_on='ExternOrderNo',right_on='Order ID',how='outer')\n",
    "order_sku_invoice_pincode.drop(columns=['Order ID'], inplace=True)\n",
    "order_sku_invoice_pincode.rename(columns={\"ExternOrderNo\": \"Order ID\"}, inplace=True)\n",
    "order_sku_invoice_pincode.info()"
   ]
  },
  {
   "cell_type": "code",
   "execution_count": 63,
   "metadata": {},
   "outputs": [
    {
     "data": {
      "text/plain": [
       "Order ID                0\n",
       "SKU                     0\n",
       "Order Qty               0\n",
       "Weight (g)              0\n",
       "AWB Code                0\n",
       "Charged Weight          0\n",
       "Warehouse Pincode       0\n",
       "Customer Pincode        0\n",
       "Zone                    0\n",
       "Type of Shipment        0\n",
       "Billing Amount (Rs.)    0\n",
       "dtype: int64"
      ]
     },
     "execution_count": 63,
     "metadata": {},
     "output_type": "execute_result"
    }
   ],
   "source": [
    "# Checking for the Null values in joinned table\n",
    "order_sku_invoice_pincode.isnull().sum()"
   ]
  },
  {
   "cell_type": "code",
   "execution_count": 64,
   "metadata": {},
   "outputs": [
    {
     "data": {
      "text/plain": [
       "np.int64(0)"
      ]
     },
     "execution_count": 64,
     "metadata": {},
     "output_type": "execute_result"
    }
   ],
   "source": [
    "# Checking for the duplicated values if present in the joined table.\n",
    "order_sku_invoice_pincode.duplicated().sum()"
   ]
  },
  {
   "cell_type": "code",
   "execution_count": 81,
   "metadata": {},
   "outputs": [
    {
     "name": "stdout",
     "output_type": "stream",
     "text": [
      "<class 'pandas.core.frame.DataFrame'>\n",
      "RangeIndex: 398 entries, 0 to 397\n",
      "Data columns (total 11 columns):\n",
      " #   Column                Non-Null Count  Dtype  \n",
      "---  ------                --------------  -----  \n",
      " 0   Order ID              398 non-null    int64  \n",
      " 1   SKU                   398 non-null    object \n",
      " 2   Order Qty             398 non-null    float64\n",
      " 3   Weight (g)            398 non-null    int64  \n",
      " 4   AWB Code              398 non-null    int64  \n",
      " 5   Charged Weight        398 non-null    float64\n",
      " 6   Warehouse Pincode     398 non-null    int64  \n",
      " 7   Customer Pincode      398 non-null    int64  \n",
      " 8   Zone                  398 non-null    object \n",
      " 9   Type of Shipment      398 non-null    object \n",
      " 10  Billing Amount (Rs.)  398 non-null    float64\n",
      "dtypes: float64(3), int64(5), object(3)\n",
      "memory usage: 34.3+ KB\n"
     ]
    }
   ],
   "source": [
    "# Lets save this merged data into \"data\" variable:\n",
    "data = order_sku_invoice_pincode.copy()\n",
    "data.info()"
   ]
  },
  {
   "cell_type": "code",
   "execution_count": 84,
   "metadata": {},
   "outputs": [],
   "source": [
    "# Not correct do it again analyzie it....\n",
    "\n",
    "# Convert to integers first to remove decimals, then convert to strings (object type)\n",
    "data['Order ID'] = data['Order ID'].round(0).astype('int64').astype('object')\n",
    "data['AWB Code'] = data['AWB Code'].round(0).astype('int64').astype('object')\n",
    "\n",
    "# Convert 'Order Qty' to int64 (will fail if there are NaN values)\n",
    "data['Order Qty'] = data['Order Qty'].astype('int64')\n",
    "\n",
    "# Ensure 'Charged Weight', 'Billing Amount (Rs.)', and 'Weight (g)' are float64\n",
    "data['Charged Weight'] = data['Charged Weight'].astype('float64')\n",
    "data['Billing Amount (Rs.)'] = data['Billing Amount (Rs.)'].astype('float64')\n",
    "data['Weight (g)'] = data['Weight (g)'].astype('float64')\n",
    "\n",
    "# Convert 'Warehouse Pincode' and 'Customer Pincode' to object (string) type\n",
    "data['Warehouse Pincode'] = data['Warehouse Pincode'].astype('object')\n",
    "data['Customer Pincode'] = data['Customer Pincode'].astype('object')\n"
   ]
  },
  {
   "cell_type": "code",
   "execution_count": 58,
   "metadata": {},
   "outputs": [
    {
     "data": {
      "text/html": [
       "<div>\n",
       "<style scoped>\n",
       "    .dataframe tbody tr th:only-of-type {\n",
       "        vertical-align: middle;\n",
       "    }\n",
       "\n",
       "    .dataframe tbody tr th {\n",
       "        vertical-align: top;\n",
       "    }\n",
       "\n",
       "    .dataframe thead th {\n",
       "        text-align: right;\n",
       "    }\n",
       "</style>\n",
       "<table border=\"1\" class=\"dataframe\">\n",
       "  <thead>\n",
       "    <tr style=\"text-align: right;\">\n",
       "      <th></th>\n",
       "      <th>Order ID</th>\n",
       "      <th>SKU</th>\n",
       "      <th>Order Qty</th>\n",
       "      <th>AWB Code</th>\n",
       "      <th>Charged Weight</th>\n",
       "      <th>Warehouse Pincode</th>\n",
       "      <th>Customer Pincode</th>\n",
       "      <th>Zone</th>\n",
       "      <th>Type of Shipment</th>\n",
       "      <th>Billing Amount (Rs.)</th>\n",
       "      <th>Weight (g)</th>\n",
       "    </tr>\n",
       "  </thead>\n",
       "  <tbody>\n",
       "    <tr>\n",
       "      <th>0</th>\n",
       "      <td>2001808801.0</td>\n",
       "      <td>8904223815682</td>\n",
       "      <td>1.0</td>\n",
       "      <td>1091117437680.0</td>\n",
       "      <td>0.80</td>\n",
       "      <td>121003</td>\n",
       "      <td>335001</td>\n",
       "      <td>d</td>\n",
       "      <td>Forward charges</td>\n",
       "      <td>90.2</td>\n",
       "      <td>210.0</td>\n",
       "    </tr>\n",
       "    <tr>\n",
       "      <th>1</th>\n",
       "      <td>2001806567.0</td>\n",
       "      <td>8904223815804</td>\n",
       "      <td>1.0</td>\n",
       "      <td>1091117224902.0</td>\n",
       "      <td>1.16</td>\n",
       "      <td>121003</td>\n",
       "      <td>370201</td>\n",
       "      <td>d</td>\n",
       "      <td>Forward charges</td>\n",
       "      <td>135.0</td>\n",
       "      <td>160.0</td>\n",
       "    </tr>\n",
       "    <tr>\n",
       "      <th>2</th>\n",
       "      <td>2001808118.0</td>\n",
       "      <td>8904223815859</td>\n",
       "      <td>1.0</td>\n",
       "      <td>1091117435134.0</td>\n",
       "      <td>0.50</td>\n",
       "      <td>121003</td>\n",
       "      <td>140301</td>\n",
       "      <td>b</td>\n",
       "      <td>Forward charges</td>\n",
       "      <td>33.0</td>\n",
       "      <td>165.0</td>\n",
       "    </tr>\n",
       "    <tr>\n",
       "      <th>3</th>\n",
       "      <td>2001808118.0</td>\n",
       "      <td>8904223815859</td>\n",
       "      <td>1.0</td>\n",
       "      <td>1091117435134.0</td>\n",
       "      <td>0.50</td>\n",
       "      <td>121003</td>\n",
       "      <td>140301</td>\n",
       "      <td>b</td>\n",
       "      <td>Forward charges</td>\n",
       "      <td>33.0</td>\n",
       "      <td>165.0</td>\n",
       "    </tr>\n",
       "    <tr>\n",
       "      <th>4</th>\n",
       "      <td>2001808675.0</td>\n",
       "      <td>8904223815859</td>\n",
       "      <td>1.0</td>\n",
       "      <td>1091117437050.0</td>\n",
       "      <td>1.20</td>\n",
       "      <td>121003</td>\n",
       "      <td>226010</td>\n",
       "      <td>b</td>\n",
       "      <td>Forward charges</td>\n",
       "      <td>89.6</td>\n",
       "      <td>165.0</td>\n",
       "    </tr>\n",
       "  </tbody>\n",
       "</table>\n",
       "</div>"
      ],
      "text/plain": [
       "       Order ID            SKU  Order Qty         AWB Code  Charged Weight  \\\n",
       "0  2001808801.0  8904223815682        1.0  1091117437680.0            0.80   \n",
       "1  2001806567.0  8904223815804        1.0  1091117224902.0            1.16   \n",
       "2  2001808118.0  8904223815859        1.0  1091117435134.0            0.50   \n",
       "3  2001808118.0  8904223815859        1.0  1091117435134.0            0.50   \n",
       "4  2001808675.0  8904223815859        1.0  1091117437050.0            1.20   \n",
       "\n",
       "   Warehouse Pincode  Customer Pincode Zone Type of Shipment  \\\n",
       "0             121003            335001    d  Forward charges   \n",
       "1             121003            370201    d  Forward charges   \n",
       "2             121003            140301    b  Forward charges   \n",
       "3             121003            140301    b  Forward charges   \n",
       "4             121003            226010    b  Forward charges   \n",
       "\n",
       "   Billing Amount (Rs.)  Weight (g)  \n",
       "0                  90.2       210.0  \n",
       "1                 135.0       160.0  \n",
       "2                  33.0       165.0  \n",
       "3                  33.0       165.0  \n",
       "4                  89.6       165.0  "
      ]
     },
     "execution_count": 58,
     "metadata": {},
     "output_type": "execute_result"
    }
   ],
   "source": [
    "data.head()"
   ]
  },
  {
   "cell_type": "code",
   "execution_count": null,
   "metadata": {},
   "outputs": [],
   "source": []
  }
 ],
 "metadata": {
  "kernelspec": {
   "display_name": "Python 3",
   "language": "python",
   "name": "python3"
  },
  "language_info": {
   "codemirror_mode": {
    "name": "ipython",
    "version": 3
   },
   "file_extension": ".py",
   "mimetype": "text/x-python",
   "name": "python",
   "nbconvert_exporter": "python",
   "pygments_lexer": "ipython3",
   "version": "3.9.0"
  }
 },
 "nbformat": 4,
 "nbformat_minor": 2
}
